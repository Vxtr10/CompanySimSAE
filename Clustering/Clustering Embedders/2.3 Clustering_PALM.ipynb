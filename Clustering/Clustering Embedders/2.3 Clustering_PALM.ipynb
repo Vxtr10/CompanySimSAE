{
 "cells": [
  {
   "cell_type": "code",
   "execution_count": 1,
   "id": "a7813a3f-b113-4ffb-801b-c0a963f0fd16",
   "metadata": {},
   "outputs": [
    {
     "name": "stderr",
     "output_type": "stream",
     "text": [
      "/users/shaox7/.local/lib/python3.11/site-packages/tqdm/auto.py:21: TqdmWarning: IProgress not found. Please update jupyter and ipywidgets. See https://ipywidgets.readthedocs.io/en/stable/user_install.html\n",
      "  from .autonotebook import tqdm as notebook_tqdm\n"
     ]
    }
   ],
   "source": [
    "import datasets\n",
    "from datasets import Dataset, DatasetDict\n",
    "from transformers import AutoTokenizer\n",
    "import pandas as pd\n",
    "import yfinance as yf\n",
    "import numpy as np\n",
    "import matplotlib.pyplot as plt\n",
    "from tqdm import tqdm\n",
    "from datasets import load_dataset, concatenate_datasets\n",
    "import json\n",
    "from sklearn.decomposition import PCA\n",
    "from sklearn.preprocessing import StandardScaler\n",
    "import warnings\n",
    "warnings.filterwarnings(\"ignore\")\n"
   ]
  },
  {
   "cell_type": "code",
   "execution_count": 2,
   "id": "7165a270-33d4-40d7-b0da-8613747a4336",
   "metadata": {},
   "outputs": [],
   "source": [
    "ds_compinfo = load_dataset(\"v1ctor10/BERT_SBERT_PALM_embeddingsSAE\")\n",
    "df_compinfo = ds_compinfo['train'].to_pandas()"
   ]
  },
  {
   "cell_type": "code",
   "execution_count": 3,
   "id": "defae8e1-aa7b-402c-b239-25dbf0498eb6",
   "metadata": {
    "scrolled": true
   },
   "outputs": [
    {
     "name": "stdout",
     "output_type": "stream",
     "text": [
      "Number of rows after dropping missing sic_code: 26769\n"
     ]
    },
    {
     "data": {
      "text/html": [
       "<div>\n",
       "<style scoped>\n",
       "    .dataframe tbody tr th:only-of-type {\n",
       "        vertical-align: middle;\n",
       "    }\n",
       "\n",
       "    .dataframe tbody tr th {\n",
       "        vertical-align: top;\n",
       "    }\n",
       "\n",
       "    .dataframe thead th {\n",
       "        text-align: right;\n",
       "    }\n",
       "</style>\n",
       "<table border=\"1\" class=\"dataframe\">\n",
       "  <thead>\n",
       "    <tr style=\"text-align: right;\">\n",
       "      <th></th>\n",
       "      <th>year</th>\n",
       "      <th>sic_code</th>\n",
       "      <th>cik</th>\n",
       "      <th>ticker</th>\n",
       "      <th>industry_classification</th>\n",
       "      <th>__index_level_0__</th>\n",
       "      <th>PALMGECKO-embedding</th>\n",
       "    </tr>\n",
       "  </thead>\n",
       "  <tbody>\n",
       "    <tr>\n",
       "      <th>0</th>\n",
       "      <td>1996</td>\n",
       "      <td>6021</td>\n",
       "      <td>875357</td>\n",
       "      <td>[BOKF]</td>\n",
       "      <td>Finance, Insurance, And Real Estate</td>\n",
       "      <td>1455</td>\n",
       "      <td>[0.028801165521144867, -0.004072049167007208, ...</td>\n",
       "    </tr>\n",
       "    <tr>\n",
       "      <th>1</th>\n",
       "      <td>1996</td>\n",
       "      <td>7372</td>\n",
       "      <td>935036</td>\n",
       "      <td>[ACIW]</td>\n",
       "      <td>Services</td>\n",
       "      <td>1456</td>\n",
       "      <td>[0.04355491325259209, -0.041682351380586624, -...</td>\n",
       "    </tr>\n",
       "    <tr>\n",
       "      <th>2</th>\n",
       "      <td>1996</td>\n",
       "      <td>2840</td>\n",
       "      <td>80424</td>\n",
       "      <td>[PG]</td>\n",
       "      <td>Manufacturing</td>\n",
       "      <td>1457</td>\n",
       "      <td>[-0.004447496961802244, -0.031077519059181213,...</td>\n",
       "    </tr>\n",
       "    <tr>\n",
       "      <th>3</th>\n",
       "      <td>1996</td>\n",
       "      <td>2320</td>\n",
       "      <td>75288</td>\n",
       "      <td>[OXM]</td>\n",
       "      <td>Manufacturing</td>\n",
       "      <td>1458</td>\n",
       "      <td>[-0.0025872865226119757, -0.06894127279520035,...</td>\n",
       "    </tr>\n",
       "    <tr>\n",
       "      <th>4</th>\n",
       "      <td>1996</td>\n",
       "      <td>3357</td>\n",
       "      <td>913142</td>\n",
       "      <td>[BDC]</td>\n",
       "      <td>Manufacturing</td>\n",
       "      <td>1461</td>\n",
       "      <td>[-0.004585464019328356, -0.04119681566953659, ...</td>\n",
       "    </tr>\n",
       "    <tr>\n",
       "      <th>...</th>\n",
       "      <td>...</td>\n",
       "      <td>...</td>\n",
       "      <td>...</td>\n",
       "      <td>...</td>\n",
       "      <td>...</td>\n",
       "      <td>...</td>\n",
       "      <td>...</td>\n",
       "    </tr>\n",
       "    <tr>\n",
       "      <th>26764</th>\n",
       "      <td>2020</td>\n",
       "      <td>7990</td>\n",
       "      <td>1090396</td>\n",
       "      <td>[TBTC]</td>\n",
       "      <td>Services</td>\n",
       "      <td>9167</td>\n",
       "      <td>[0.0076806191354990005, 0.0022095998283475637,...</td>\n",
       "    </tr>\n",
       "    <tr>\n",
       "      <th>26765</th>\n",
       "      <td>2020</td>\n",
       "      <td>6311</td>\n",
       "      <td>59558</td>\n",
       "      <td>[LNC, LNC-PD]</td>\n",
       "      <td>Finance, Insurance, And Real Estate</td>\n",
       "      <td>9170</td>\n",
       "      <td>[-0.018874678760766983, -0.033156152814626694,...</td>\n",
       "    </tr>\n",
       "    <tr>\n",
       "      <th>26766</th>\n",
       "      <td>2020</td>\n",
       "      <td>1311</td>\n",
       "      <td>844965</td>\n",
       "      <td>[TTI]</td>\n",
       "      <td>Mining</td>\n",
       "      <td>9213</td>\n",
       "      <td>[0.014242090284824371, -0.02308802679181099, -...</td>\n",
       "    </tr>\n",
       "    <tr>\n",
       "      <th>26767</th>\n",
       "      <td>2020</td>\n",
       "      <td>3537</td>\n",
       "      <td>97216</td>\n",
       "      <td>[TEX]</td>\n",
       "      <td>Manufacturing</td>\n",
       "      <td>9217</td>\n",
       "      <td>[0.022182853892445564, -0.03954493626952171, -...</td>\n",
       "    </tr>\n",
       "    <tr>\n",
       "      <th>26768</th>\n",
       "      <td>2020</td>\n",
       "      <td>3730</td>\n",
       "      <td>1590976</td>\n",
       "      <td>[MBUU]</td>\n",
       "      <td>Manufacturing</td>\n",
       "      <td>9218</td>\n",
       "      <td>[-0.0006638797931373119, -0.04706060513854027,...</td>\n",
       "    </tr>\n",
       "  </tbody>\n",
       "</table>\n",
       "<p>26769 rows × 7 columns</p>\n",
       "</div>"
      ],
      "text/plain": [
       "       year sic_code      cik         ticker  \\\n",
       "0      1996     6021   875357         [BOKF]   \n",
       "1      1996     7372   935036         [ACIW]   \n",
       "2      1996     2840    80424           [PG]   \n",
       "3      1996     2320    75288          [OXM]   \n",
       "4      1996     3357   913142          [BDC]   \n",
       "...     ...      ...      ...            ...   \n",
       "26764  2020     7990  1090396         [TBTC]   \n",
       "26765  2020     6311    59558  [LNC, LNC-PD]   \n",
       "26766  2020     1311   844965          [TTI]   \n",
       "26767  2020     3537    97216          [TEX]   \n",
       "26768  2020     3730  1590976         [MBUU]   \n",
       "\n",
       "                   industry_classification  __index_level_0__  \\\n",
       "0      Finance, Insurance, And Real Estate               1455   \n",
       "1                                 Services               1456   \n",
       "2                            Manufacturing               1457   \n",
       "3                            Manufacturing               1458   \n",
       "4                            Manufacturing               1461   \n",
       "...                                    ...                ...   \n",
       "26764                             Services               9167   \n",
       "26765  Finance, Insurance, And Real Estate               9170   \n",
       "26766                               Mining               9213   \n",
       "26767                        Manufacturing               9217   \n",
       "26768                        Manufacturing               9218   \n",
       "\n",
       "                                     PALMGECKO-embedding  \n",
       "0      [0.028801165521144867, -0.004072049167007208, ...  \n",
       "1      [0.04355491325259209, -0.041682351380586624, -...  \n",
       "2      [-0.004447496961802244, -0.031077519059181213,...  \n",
       "3      [-0.0025872865226119757, -0.06894127279520035,...  \n",
       "4      [-0.004585464019328356, -0.04119681566953659, ...  \n",
       "...                                                  ...  \n",
       "26764  [0.0076806191354990005, 0.0022095998283475637,...  \n",
       "26765  [-0.018874678760766983, -0.033156152814626694,...  \n",
       "26766  [0.014242090284824371, -0.02308802679181099, -...  \n",
       "26767  [0.022182853892445564, -0.03954493626952171, -...  \n",
       "26768  [-0.0006638797931373119, -0.04706060513854027,...  \n",
       "\n",
       "[26769 rows x 7 columns]"
      ]
     },
     "execution_count": 3,
     "metadata": {},
     "output_type": "execute_result"
    }
   ],
   "source": [
    "df_compinfo[\"year\"] = df_compinfo[\"year\"].astype(int)\n",
    "df_compinfo = df_compinfo[~df_compinfo['year'].isin([1993, 1994, 1995])]\n",
    "df_compinfo = df_compinfo.sort_values(by=['year'], ascending=True)\n",
    "df_compinfo = df_compinfo.reset_index(drop=True)\n",
    "df_compinfo = df_compinfo.dropna(subset=['sic_code'])\n",
    "print(f\"Number of rows after dropping missing sic_code: {len(df_compinfo)}\")\n",
    "# Define a function to classify SIC codes into industries based on the first two digits\n",
    "def classify_sic(sic_code):\n",
    "    # Extract the first two digits of the SIC code\n",
    "    first_two_digits = int(str(sic_code)[:2])\n",
    "    \n",
    "    # Map to industry categories\n",
    "    if 1 <= first_two_digits <= 9:\n",
    "        return 'Agriculture, Forestry, And Fishing'\n",
    "    elif 10 <= first_two_digits <= 14:\n",
    "        return 'Mining'\n",
    "    elif 15 <= first_two_digits <= 17:\n",
    "        return 'Construction'\n",
    "    elif 20 <= first_two_digits <= 39:\n",
    "        return 'Manufacturing'\n",
    "    elif 40 <= first_two_digits <= 49:\n",
    "        return 'Transportation, Communications, Electric, Gas, And Sanitary Services'\n",
    "    elif 50 <= first_two_digits <= 51:\n",
    "        return 'Wholesale Trade'\n",
    "    elif 52 <= first_two_digits <= 59:\n",
    "        return 'Retail Trade'\n",
    "    elif 60 <= first_two_digits <= 67:\n",
    "        return 'Finance, Insurance, And Real Estate'\n",
    "    elif 70 <= first_two_digits <= 89:\n",
    "        return 'Services'\n",
    "    elif 90 <= first_two_digits <= 99:\n",
    "        return 'Public Administration'\n",
    "    else:\n",
    "        return 'Unknown'\n",
    "\n",
    "# Apply the classification to the SIC codes in the dataset\n",
    "df_compinfo['industry_classification'] = df_compinfo['sic_code'].apply(classify_sic)\n",
    "\n",
    "df_compinfo = df_compinfo[[\"year\", \"sic_code\", \"cik\", \"ticker\", \"industry_classification\", \"__index_level_0__\", \"PALMGECKO-embedding\"]]\n",
    "df_compinfo\n"
   ]
  },
  {
   "cell_type": "code",
   "execution_count": 4,
   "id": "90ad222d-b796-455a-ac65-9f416a64235d",
   "metadata": {},
   "outputs": [
    {
     "name": "stdout",
     "output_type": "stream",
     "text": [
      "Memory usage before: 5128.53 MB\n"
     ]
    }
   ],
   "source": [
    "import psutil\n",
    "import os\n",
    "process = psutil.Process(os.getpid())\n",
    "print(f\"Memory usage before: {process.memory_info().rss / 1024 ** 2:.2f} MB\")"
   ]
  },
  {
   "cell_type": "code",
   "execution_count": null,
   "id": "c424e7c0-357c-4ef1-9c40-73e728130f82",
   "metadata": {},
   "outputs": [],
   "source": [
    "pairs_ds = load_dataset(\"v1ctor10/cos_sim_4000pca_exp\")\n",
    "pairs_df = pairs_ds['train'].to_pandas()"
   ]
  },
  {
   "cell_type": "code",
   "execution_count": null,
   "id": "6b26b5bc-661b-420a-a9fc-a8ac720d94fe",
   "metadata": {},
   "outputs": [],
   "source": [
    "pairs_df[\"year\"]=pairs_df[\"year\"].astype(int)\n",
    "pairs_df.iloc[30]"
   ]
  },
  {
   "cell_type": "code",
   "execution_count": null,
   "id": "5cae98ab-4b68-40bc-b1bd-cdf9ba378560",
   "metadata": {},
   "outputs": [],
   "source": [
    "train_data = pairs_df.iloc[20]"
   ]
  },
  {
   "cell_type": "code",
   "execution_count": 9,
   "id": "5b75f516-daa7-4b37-a7a8-5354a4037cd2",
   "metadata": {},
   "outputs": [
    {
     "data": {
      "text/html": [
       "<div>\n",
       "<style scoped>\n",
       "    .dataframe tbody tr th:only-of-type {\n",
       "        vertical-align: middle;\n",
       "    }\n",
       "\n",
       "    .dataframe tbody tr th {\n",
       "        vertical-align: top;\n",
       "    }\n",
       "\n",
       "    .dataframe thead th {\n",
       "        text-align: right;\n",
       "    }\n",
       "</style>\n",
       "<table border=\"1\" class=\"dataframe\">\n",
       "  <thead>\n",
       "    <tr style=\"text-align: right;\">\n",
       "      <th></th>\n",
       "      <th>year</th>\n",
       "      <th>sic_code</th>\n",
       "      <th>cik</th>\n",
       "      <th>ticker</th>\n",
       "      <th>__index_level_0__</th>\n",
       "      <th>PALMGECKO-embedding</th>\n",
       "    </tr>\n",
       "  </thead>\n",
       "  <tbody>\n",
       "    <tr>\n",
       "      <th>0</th>\n",
       "      <td>1996</td>\n",
       "      <td>6021</td>\n",
       "      <td>875357</td>\n",
       "      <td>[BOKF]</td>\n",
       "      <td>1455</td>\n",
       "      <td>[0.028801165521144867, -0.004072049167007208, ...</td>\n",
       "    </tr>\n",
       "    <tr>\n",
       "      <th>1</th>\n",
       "      <td>1996</td>\n",
       "      <td>7372</td>\n",
       "      <td>935036</td>\n",
       "      <td>[ACIW]</td>\n",
       "      <td>1456</td>\n",
       "      <td>[0.04355491325259209, -0.041682351380586624, -...</td>\n",
       "    </tr>\n",
       "    <tr>\n",
       "      <th>2</th>\n",
       "      <td>1996</td>\n",
       "      <td>2840</td>\n",
       "      <td>80424</td>\n",
       "      <td>[PG]</td>\n",
       "      <td>1457</td>\n",
       "      <td>[-0.004447496961802244, -0.031077519059181213,...</td>\n",
       "    </tr>\n",
       "    <tr>\n",
       "      <th>3</th>\n",
       "      <td>1996</td>\n",
       "      <td>2320</td>\n",
       "      <td>75288</td>\n",
       "      <td>[OXM]</td>\n",
       "      <td>1458</td>\n",
       "      <td>[-0.0025872865226119757, -0.06894127279520035,...</td>\n",
       "    </tr>\n",
       "    <tr>\n",
       "      <th>4</th>\n",
       "      <td>1996</td>\n",
       "      <td>3357</td>\n",
       "      <td>913142</td>\n",
       "      <td>[BDC]</td>\n",
       "      <td>1461</td>\n",
       "      <td>[-0.004585464019328356, -0.04119681566953659, ...</td>\n",
       "    </tr>\n",
       "  </tbody>\n",
       "</table>\n",
       "</div>"
      ],
      "text/plain": [
       "   year sic_code     cik  ticker  __index_level_0__  \\\n",
       "0  1996     6021  875357  [BOKF]               1455   \n",
       "1  1996     7372  935036  [ACIW]               1456   \n",
       "2  1996     2840   80424    [PG]               1457   \n",
       "3  1996     2320   75288   [OXM]               1458   \n",
       "4  1996     3357  913142   [BDC]               1461   \n",
       "\n",
       "                                 PALMGECKO-embedding  \n",
       "0  [0.028801165521144867, -0.004072049167007208, ...  \n",
       "1  [0.04355491325259209, -0.041682351380586624, -...  \n",
       "2  [-0.004447496961802244, -0.031077519059181213,...  \n",
       "3  [-0.0025872865226119757, -0.06894127279520035,...  \n",
       "4  [-0.004585464019328356, -0.04119681566953659, ...  "
      ]
     },
     "execution_count": 9,
     "metadata": {},
     "output_type": "execute_result"
    }
   ],
   "source": [
    "df_compinfo.head()"
   ]
  },
  {
   "cell_type": "code",
   "execution_count": 11,
   "id": "bdf458ac-54f3-43c0-956a-9a1c536fa6a1",
   "metadata": {},
   "outputs": [
    {
     "data": {
      "text/html": [
       "<div>\n",
       "<style scoped>\n",
       "    .dataframe tbody tr th:only-of-type {\n",
       "        vertical-align: middle;\n",
       "    }\n",
       "\n",
       "    .dataframe tbody tr th {\n",
       "        vertical-align: top;\n",
       "    }\n",
       "\n",
       "    .dataframe thead th {\n",
       "        text-align: right;\n",
       "    }\n",
       "</style>\n",
       "<table border=\"1\" class=\"dataframe\">\n",
       "  <thead>\n",
       "    <tr style=\"text-align: right;\">\n",
       "      <th></th>\n",
       "      <th>year</th>\n",
       "      <th>sic_code</th>\n",
       "      <th>cik</th>\n",
       "      <th>ticker</th>\n",
       "      <th>__index_level_0__</th>\n",
       "      <th>PALMGECKO-embedding</th>\n",
       "    </tr>\n",
       "  </thead>\n",
       "  <tbody>\n",
       "    <tr>\n",
       "      <th>0</th>\n",
       "      <td>1996</td>\n",
       "      <td>6021</td>\n",
       "      <td>875357</td>\n",
       "      <td>[BOKF]</td>\n",
       "      <td>1455</td>\n",
       "      <td>[0.028801165521144867, -0.004072049167007208, ...</td>\n",
       "    </tr>\n",
       "    <tr>\n",
       "      <th>1</th>\n",
       "      <td>1996</td>\n",
       "      <td>7372</td>\n",
       "      <td>935036</td>\n",
       "      <td>[ACIW]</td>\n",
       "      <td>1456</td>\n",
       "      <td>[0.04355491325259209, -0.041682351380586624, -...</td>\n",
       "    </tr>\n",
       "    <tr>\n",
       "      <th>2</th>\n",
       "      <td>1996</td>\n",
       "      <td>2840</td>\n",
       "      <td>80424</td>\n",
       "      <td>[PG]</td>\n",
       "      <td>1457</td>\n",
       "      <td>[-0.004447496961802244, -0.031077519059181213,...</td>\n",
       "    </tr>\n",
       "    <tr>\n",
       "      <th>3</th>\n",
       "      <td>1996</td>\n",
       "      <td>2320</td>\n",
       "      <td>75288</td>\n",
       "      <td>[OXM]</td>\n",
       "      <td>1458</td>\n",
       "      <td>[-0.0025872865226119757, -0.06894127279520035,...</td>\n",
       "    </tr>\n",
       "    <tr>\n",
       "      <th>4</th>\n",
       "      <td>1996</td>\n",
       "      <td>3357</td>\n",
       "      <td>913142</td>\n",
       "      <td>[BDC]</td>\n",
       "      <td>1461</td>\n",
       "      <td>[-0.004585464019328356, -0.04119681566953659, ...</td>\n",
       "    </tr>\n",
       "    <tr>\n",
       "      <th>...</th>\n",
       "      <td>...</td>\n",
       "      <td>...</td>\n",
       "      <td>...</td>\n",
       "      <td>...</td>\n",
       "      <td>...</td>\n",
       "      <td>...</td>\n",
       "    </tr>\n",
       "    <tr>\n",
       "      <th>26764</th>\n",
       "      <td>2020</td>\n",
       "      <td>7990</td>\n",
       "      <td>1090396</td>\n",
       "      <td>[TBTC]</td>\n",
       "      <td>9167</td>\n",
       "      <td>[0.0076806191354990005, 0.0022095998283475637,...</td>\n",
       "    </tr>\n",
       "    <tr>\n",
       "      <th>26765</th>\n",
       "      <td>2020</td>\n",
       "      <td>6311</td>\n",
       "      <td>59558</td>\n",
       "      <td>[LNC, LNC-PD]</td>\n",
       "      <td>9170</td>\n",
       "      <td>[-0.018874678760766983, -0.033156152814626694,...</td>\n",
       "    </tr>\n",
       "    <tr>\n",
       "      <th>26766</th>\n",
       "      <td>2020</td>\n",
       "      <td>1311</td>\n",
       "      <td>844965</td>\n",
       "      <td>[TTI]</td>\n",
       "      <td>9213</td>\n",
       "      <td>[0.014242090284824371, -0.02308802679181099, -...</td>\n",
       "    </tr>\n",
       "    <tr>\n",
       "      <th>26767</th>\n",
       "      <td>2020</td>\n",
       "      <td>3537</td>\n",
       "      <td>97216</td>\n",
       "      <td>[TEX]</td>\n",
       "      <td>9217</td>\n",
       "      <td>[0.022182853892445564, -0.03954493626952171, -...</td>\n",
       "    </tr>\n",
       "    <tr>\n",
       "      <th>26768</th>\n",
       "      <td>2020</td>\n",
       "      <td>3730</td>\n",
       "      <td>1590976</td>\n",
       "      <td>[MBUU]</td>\n",
       "      <td>9218</td>\n",
       "      <td>[-0.0006638797931373119, -0.04706060513854027,...</td>\n",
       "    </tr>\n",
       "  </tbody>\n",
       "</table>\n",
       "<p>26769 rows × 6 columns</p>\n",
       "</div>"
      ],
      "text/plain": [
       "       year sic_code      cik         ticker  __index_level_0__  \\\n",
       "0      1996     6021   875357         [BOKF]               1455   \n",
       "1      1996     7372   935036         [ACIW]               1456   \n",
       "2      1996     2840    80424           [PG]               1457   \n",
       "3      1996     2320    75288          [OXM]               1458   \n",
       "4      1996     3357   913142          [BDC]               1461   \n",
       "...     ...      ...      ...            ...                ...   \n",
       "26764  2020     7990  1090396         [TBTC]               9167   \n",
       "26765  2020     6311    59558  [LNC, LNC-PD]               9170   \n",
       "26766  2020     1311   844965          [TTI]               9213   \n",
       "26767  2020     3537    97216          [TEX]               9217   \n",
       "26768  2020     3730  1590976         [MBUU]               9218   \n",
       "\n",
       "                                     PALMGECKO-embedding  \n",
       "0      [0.028801165521144867, -0.004072049167007208, ...  \n",
       "1      [0.04355491325259209, -0.041682351380586624, -...  \n",
       "2      [-0.004447496961802244, -0.031077519059181213,...  \n",
       "3      [-0.0025872865226119757, -0.06894127279520035,...  \n",
       "4      [-0.004585464019328356, -0.04119681566953659, ...  \n",
       "...                                                  ...  \n",
       "26764  [0.0076806191354990005, 0.0022095998283475637,...  \n",
       "26765  [-0.018874678760766983, -0.033156152814626694,...  \n",
       "26766  [0.014242090284824371, -0.02308802679181099, -...  \n",
       "26767  [0.022182853892445564, -0.03954493626952171, -...  \n",
       "26768  [-0.0006638797931373119, -0.04706060513854027,...  \n",
       "\n",
       "[26769 rows x 6 columns]"
      ]
     },
     "execution_count": 11,
     "metadata": {},
     "output_type": "execute_result"
    }
   ],
   "source": [
    "df_compinfo"
   ]
  },
  {
   "cell_type": "markdown",
   "id": "4003a088-6bd7-48c5-a27e-9988765a8f39",
   "metadata": {},
   "source": [
    "# used rbf instead of (nearest_neighbors)\n",
    "\n",
    "Use Cases:\n",
    "\n",
    "When global similarities (instead of just local) matter.\n",
    "Suitable for compact, Gaussian-like clusters or when the clusters are not well-separated locally.\n",
    "Advantages:\n",
    "\n",
    "Captures global structure.\n",
    "Does not rely on choosing the number of neighbors, which can sometimes be hard to tune.\n",
    "Disadvantages:\n",
    "\n",
    "Can be computationally expensive for large datasets because the matrix is dense.\n",
    "Sensitive to the choice of the gamma parameter in the RBF kernel "
   ]
  },
  {
   "cell_type": "code",
   "execution_count": 13,
   "id": "c145a37e-082e-49fa-b385-b5b6a675b1c6",
   "metadata": {},
   "outputs": [
    {
     "data": {
      "text/html": [
       "<div>\n",
       "<style scoped>\n",
       "    .dataframe tbody tr th:only-of-type {\n",
       "        vertical-align: middle;\n",
       "    }\n",
       "\n",
       "    .dataframe tbody tr th {\n",
       "        vertical-align: top;\n",
       "    }\n",
       "\n",
       "    .dataframe thead th {\n",
       "        text-align: right;\n",
       "    }\n",
       "</style>\n",
       "<table border=\"1\" class=\"dataframe\">\n",
       "  <thead>\n",
       "    <tr style=\"text-align: right;\">\n",
       "      <th></th>\n",
       "      <th>year</th>\n",
       "      <th>sic_code</th>\n",
       "      <th>cik</th>\n",
       "      <th>ticker</th>\n",
       "      <th>__index_level_0__</th>\n",
       "      <th>PALMGECKO-embedding</th>\n",
       "    </tr>\n",
       "  </thead>\n",
       "  <tbody>\n",
       "    <tr>\n",
       "      <th>0</th>\n",
       "      <td>1996</td>\n",
       "      <td>6021</td>\n",
       "      <td>875357</td>\n",
       "      <td>[BOKF]</td>\n",
       "      <td>1455</td>\n",
       "      <td>[0.028801165521144867, -0.004072049167007208, ...</td>\n",
       "    </tr>\n",
       "    <tr>\n",
       "      <th>1</th>\n",
       "      <td>1996</td>\n",
       "      <td>7372</td>\n",
       "      <td>935036</td>\n",
       "      <td>[ACIW]</td>\n",
       "      <td>1456</td>\n",
       "      <td>[0.04355491325259209, -0.041682351380586624, -...</td>\n",
       "    </tr>\n",
       "    <tr>\n",
       "      <th>2</th>\n",
       "      <td>1996</td>\n",
       "      <td>2840</td>\n",
       "      <td>80424</td>\n",
       "      <td>[PG]</td>\n",
       "      <td>1457</td>\n",
       "      <td>[-0.004447496961802244, -0.031077519059181213,...</td>\n",
       "    </tr>\n",
       "    <tr>\n",
       "      <th>3</th>\n",
       "      <td>1996</td>\n",
       "      <td>2320</td>\n",
       "      <td>75288</td>\n",
       "      <td>[OXM]</td>\n",
       "      <td>1458</td>\n",
       "      <td>[-0.0025872865226119757, -0.06894127279520035,...</td>\n",
       "    </tr>\n",
       "    <tr>\n",
       "      <th>4</th>\n",
       "      <td>1996</td>\n",
       "      <td>3357</td>\n",
       "      <td>913142</td>\n",
       "      <td>[BDC]</td>\n",
       "      <td>1461</td>\n",
       "      <td>[-0.004585464019328356, -0.04119681566953659, ...</td>\n",
       "    </tr>\n",
       "    <tr>\n",
       "      <th>...</th>\n",
       "      <td>...</td>\n",
       "      <td>...</td>\n",
       "      <td>...</td>\n",
       "      <td>...</td>\n",
       "      <td>...</td>\n",
       "      <td>...</td>\n",
       "    </tr>\n",
       "    <tr>\n",
       "      <th>26764</th>\n",
       "      <td>2020</td>\n",
       "      <td>7990</td>\n",
       "      <td>1090396</td>\n",
       "      <td>[TBTC]</td>\n",
       "      <td>9167</td>\n",
       "      <td>[0.0076806191354990005, 0.0022095998283475637,...</td>\n",
       "    </tr>\n",
       "    <tr>\n",
       "      <th>26765</th>\n",
       "      <td>2020</td>\n",
       "      <td>6311</td>\n",
       "      <td>59558</td>\n",
       "      <td>[LNC, LNC-PD]</td>\n",
       "      <td>9170</td>\n",
       "      <td>[-0.018874678760766983, -0.033156152814626694,...</td>\n",
       "    </tr>\n",
       "    <tr>\n",
       "      <th>26766</th>\n",
       "      <td>2020</td>\n",
       "      <td>1311</td>\n",
       "      <td>844965</td>\n",
       "      <td>[TTI]</td>\n",
       "      <td>9213</td>\n",
       "      <td>[0.014242090284824371, -0.02308802679181099, -...</td>\n",
       "    </tr>\n",
       "    <tr>\n",
       "      <th>26767</th>\n",
       "      <td>2020</td>\n",
       "      <td>3537</td>\n",
       "      <td>97216</td>\n",
       "      <td>[TEX]</td>\n",
       "      <td>9217</td>\n",
       "      <td>[0.022182853892445564, -0.03954493626952171, -...</td>\n",
       "    </tr>\n",
       "    <tr>\n",
       "      <th>26768</th>\n",
       "      <td>2020</td>\n",
       "      <td>3730</td>\n",
       "      <td>1590976</td>\n",
       "      <td>[MBUU]</td>\n",
       "      <td>9218</td>\n",
       "      <td>[-0.0006638797931373119, -0.04706060513854027,...</td>\n",
       "    </tr>\n",
       "  </tbody>\n",
       "</table>\n",
       "<p>26769 rows × 6 columns</p>\n",
       "</div>"
      ],
      "text/plain": [
       "       year sic_code      cik         ticker  __index_level_0__  \\\n",
       "0      1996     6021   875357         [BOKF]               1455   \n",
       "1      1996     7372   935036         [ACIW]               1456   \n",
       "2      1996     2840    80424           [PG]               1457   \n",
       "3      1996     2320    75288          [OXM]               1458   \n",
       "4      1996     3357   913142          [BDC]               1461   \n",
       "...     ...      ...      ...            ...                ...   \n",
       "26764  2020     7990  1090396         [TBTC]               9167   \n",
       "26765  2020     6311    59558  [LNC, LNC-PD]               9170   \n",
       "26766  2020     1311   844965          [TTI]               9213   \n",
       "26767  2020     3537    97216          [TEX]               9217   \n",
       "26768  2020     3730  1590976         [MBUU]               9218   \n",
       "\n",
       "                                     PALMGECKO-embedding  \n",
       "0      [0.028801165521144867, -0.004072049167007208, ...  \n",
       "1      [0.04355491325259209, -0.041682351380586624, -...  \n",
       "2      [-0.004447496961802244, -0.031077519059181213,...  \n",
       "3      [-0.0025872865226119757, -0.06894127279520035,...  \n",
       "4      [-0.004585464019328356, -0.04119681566953659, ...  \n",
       "...                                                  ...  \n",
       "26764  [0.0076806191354990005, 0.0022095998283475637,...  \n",
       "26765  [-0.018874678760766983, -0.033156152814626694,...  \n",
       "26766  [0.014242090284824371, -0.02308802679181099, -...  \n",
       "26767  [0.022182853892445564, -0.03954493626952171, -...  \n",
       "26768  [-0.0006638797931373119, -0.04706060513854027,...  \n",
       "\n",
       "[26769 rows x 6 columns]"
      ]
     },
     "execution_count": 13,
     "metadata": {},
     "output_type": "execute_result"
    }
   ],
   "source": [
    "df_compinfo"
   ]
  },
  {
   "cell_type": "code",
   "execution_count": 14,
   "id": "c7f54a34-39fa-4ed8-a18d-5b304f019333",
   "metadata": {},
   "outputs": [
    {
     "data": {
      "text/plain": [
       "(26769, 768)"
      ]
     },
     "execution_count": 14,
     "metadata": {},
     "output_type": "execute_result"
    }
   ],
   "source": [
    "embeddings = np.vstack(df_compinfo['PALMGECKO-embedding'].values)\n",
    "embeddings.shape"
   ]
  },
  {
   "cell_type": "code",
   "execution_count": 7,
   "id": "507edb6e-3e04-41ef-9489-aaee5c53b03a",
   "metadata": {},
   "outputs": [],
   "source": [
    "import pandas as pd\n",
    "import numpy as np\n",
    "import optuna\n",
    "import umap\n",
    "from sklearn.cluster import SpectralClustering\n",
    "from sklearn.neighbors import kneighbors_graph\n",
    "from sklearn.preprocessing import StandardScaler\n",
    "from itertools import combinations\n",
    "from joblib import Parallel, delayed\n",
    "from tqdm import tqdm\n",
    "\n",
    "# ====================\n",
    "# Load and Preprocess Data\n",
    "# ====================\n",
    "\n",
    "# Choose which embedding to use; here we use BERT\n",
    "embeddings = np.vstack(df_compinfo['PALMGECKO-embedding'].values)\n",
    "embeddings = embeddings.astype('float32')\n",
    "# Optional: Feature Scaling\n",
    "# Standardizing embeddings can improve UMAP and clustering performance\n",
    "scaler = StandardScaler()\n",
    "embeddings_scaled = scaler.fit_transform(embeddings)\n",
    "\n",
    "# Optimize pairs_df for faster lookup\n",
    "# Ensure that Company1 < Company2 for consistency\n",
    "pairs_df[['Company1', 'Company2']] = np.sort(pairs_df[['Company1', 'Company2']], axis=1)\n",
    "pairs_df.set_index(['Company1', 'Company2'], inplace=True)\n",
    "pairs_df.sort_index(inplace=True)\n",
    "\n",
    "# Create a list of company IDs for quick access\n",
    "company_ids_all = df_compinfo['__index_level_0__'].tolist()"
   ]
  },
  {
   "cell_type": "code",
   "execution_count": 9,
   "id": "ea609340-1f3c-4c88-a012-9a924b962113",
   "metadata": {},
   "outputs": [],
   "source": [
    "def compute_final_p(clusters, company_ids, pairs_df):\n",
    "    \"\"\"\n",
    "    Compute the average p_bar across all clusters.\n",
    "\n",
    "    Args:\n",
    "        clusters (np.ndarray): Cluster labels for each company in the test set.\n",
    "        company_ids (list): List of company identifiers corresponding to the test set.\n",
    "        pairs_df (pd.DataFrame): DataFrame containing pairwise correlations indexed by (Company1, Company2).\n",
    "\n",
    "    Returns:\n",
    "        float: The final_p metric representing the average cluster correlation.\n",
    "    \"\"\"\n",
    "    cluster_p_bars = []\n",
    "    unique_clusters = np.unique(clusters)\n",
    "    \n",
    "    for cluster_id in unique_clusters:\n",
    "        cluster_indices = np.where(clusters == cluster_id)[0]\n",
    "        if len(cluster_indices) < 2:\n",
    "            continue  # No pairs to compute\n",
    "        \n",
    "        # Get company IDs in the cluster\n",
    "        cluster_company_ids = [company_ids[i] for i in cluster_indices]\n",
    "        \n",
    "        # Generate all unique sorted pairs within the cluster\n",
    "        pairs = combinations(sorted(cluster_company_ids), 2)\n",
    "        pair_tuples = list(pairs)\n",
    "        \n",
    "        if not pair_tuples:\n",
    "            continue\n",
    "        \n",
    "        # Retrieve correlations using the MultiIndex\n",
    "        try:\n",
    "            correlations = pairs_df.loc[pair_tuples, 'correlation'].values\n",
    "        except KeyError:\n",
    "            # Some pairs might not exist; fetch available correlations\n",
    "            correlations = []\n",
    "            for pair in pair_tuples:\n",
    "                try:\n",
    "                    corr = pairs_df.loc[pair, 'correlation']\n",
    "                    correlations.append(corr)\n",
    "                except KeyError:\n",
    "                    continue  # Pair not found\n",
    "        \n",
    "        # Filter out NaNs\n",
    "        correlations = [corr for corr in correlations if not pd.isna(corr)]\n",
    "        \n",
    "        if correlations:\n",
    "            p_bar = np.mean(correlations)\n",
    "            cluster_p_bars.append(p_bar)\n",
    "    \n",
    "    if cluster_p_bars:\n",
    "        final_p = np.mean(cluster_p_bars)\n",
    "    else:\n",
    "        final_p = 0.0\n",
    "    return final_p\n"
   ]
  },
  {
   "cell_type": "code",
   "execution_count": 10,
   "id": "481af4e7-ef77-4659-b77f-643c0f2d3ec3",
   "metadata": {},
   "outputs": [],
   "source": [
    "def get_temporal_folds(years, n_folds=3):\n",
    "    \"\"\"\n",
    "    Generate temporal folds based on unique sorted years.\n",
    "\n",
    "    Args:\n",
    "        years (pd.Series): Series containing the year for each company.\n",
    "        n_folds (int): Number of temporal folds.\n",
    "\n",
    "    Returns:\n",
    "        list of tuples: Each tuple contains (train_indices, test_indices) for a fold.\n",
    "    \"\"\"\n",
    "    unique_years = sorted(years.unique())\n",
    "    total_years = len(unique_years)\n",
    "    \n",
    "    if total_years < (n_folds + 1):\n",
    "        raise ValueError(f\"Not enough unique years ({total_years}) for the number of folds ({n_folds}). \"\n",
    "                         f\"Each fold requires at least 1 unique year.\")\n",
    "\n",
    "    fold_size = total_years // (n_folds + 1)  # +1 to ensure no overlap\n",
    "\n",
    "    # Ensure fold_size is at least 1\n",
    "    fold_size = max(fold_size, 1)\n",
    "\n",
    "    folds = []\n",
    "    for i in range(1, n_folds + 1):\n",
    "        train_end_year = unique_years[i * fold_size]\n",
    "        \n",
    "        # Prevent (i +1)*fold_size from exceeding total_years\n",
    "        if (i + 1) * fold_size < total_years:\n",
    "            test_end_year = unique_years[(i + 1) * fold_size]\n",
    "        else:\n",
    "            test_end_year = unique_years[-1]\n",
    "        \n",
    "        train_indices = df_compinfo[df_compinfo['year'] <= train_end_year].index\n",
    "        test_indices = df_compinfo[(df_compinfo['year'] > train_end_year) & (df_compinfo['year'] <= test_end_year)].index\n",
    "        \n",
    "        # Check if test_indices is empty\n",
    "        if test_indices.empty:\n",
    "            logger.warning(f\"Fold {i}: Test set is empty. Adjusting test_end_year.\")\n",
    "            # Adjust test_end_year to include at least one year\n",
    "            if i * fold_size + 1 < total_years:\n",
    "                test_end_year = unique_years[(i + 1) * fold_size - 1]\n",
    "                test_indices = df_compinfo[(df_compinfo['year'] > train_end_year) & \n",
    "                                           (df_compinfo['year'] <= test_end_year)].index\n",
    "            else:\n",
    "                test_end_year = unique_years[-1]\n",
    "                test_indices = df_compinfo[(df_compinfo['year'] > train_end_year) & \n",
    "                                           (df_compinfo['year'] <= test_end_year)].index\n",
    "        \n",
    "        folds.append((train_indices, test_indices))\n",
    "    \n",
    "    return folds\n"
   ]
  },
  {
   "cell_type": "code",
   "execution_count": null,
   "id": "1c4804bf-9eff-4a1f-bf79-011e1652254a",
   "metadata": {
    "scrolled": true
   },
   "outputs": [],
   "source": [
    "import os\n",
    "import pandas as pd\n",
    "import optuna\n",
    "from optuna.samplers import TPESampler\n",
    "from joblib import Parallel, delayed\n",
    "import numpy as np\n",
    "from sklearn.neighbors import kneighbors_graph\n",
    "from sklearn.cluster import SpectralClustering\n",
    "import umap\n",
    "\n",
    "\n",
    "def objective(trial):\n",
    "    \"\"\"\n",
    "    Objective function for Optuna with Temporal Cross-Validation and Parallel Processing.\n",
    "    \"\"\"\n",
    "    # Hyperparameter suggestions for UMAP\n",
    "    umap_n_components = trial.suggest_int('umap_n_components', 2, 10)\n",
    "    umap_n_neighbors = trial.suggest_int('umap_n_neighbors', 50, 90)\n",
    "    umap_min_dist = trial.suggest_float('umap_min_dist', 0.0, 0.6)\n",
    "    \n",
    "    # Hyperparameter suggestions for Spectral Clustering\n",
    "    spectral_n_clusters = trial.suggest_int('spectral_n_clusters', 2, 50)\n",
    "    spectral_n_neighbors = 5\n",
    "    \n",
    "    # Initialize UMAP\n",
    "    reducer = umap.UMAP(\n",
    "        n_components=umap_n_components,\n",
    "        n_neighbors=umap_n_neighbors,\n",
    "        min_dist=umap_min_dist,\n",
    "        random_state=42,\n",
    "        low_memory=True  # Potential speed optimization\n",
    "    )\n",
    "    \n",
    "    def process_fold(train_idx, test_idx):\n",
    "        # Extract training and testing data\n",
    "        X_train, X_test = embeddings_scaled[train_idx], embeddings_scaled[test_idx]\n",
    "        company_ids_train = [company_ids_all[i] for i in train_idx]\n",
    "        company_ids_test = [company_ids_all[i] for i in test_idx]\n",
    "        \n",
    "        # Fit UMAP on training data\n",
    "        reducer.fit(X_train)\n",
    "        X_train_reduced = reducer.transform(X_train)\n",
    "        X_test_reduced = reducer.transform(X_test)\n",
    "        \n",
    "        # Create affinity matrix for training data (using all CPUs)\n",
    "        affinity_matrix = kneighbors_graph(\n",
    "            X_train_reduced,\n",
    "            n_neighbors=spectral_n_neighbors,\n",
    "            mode='connectivity',\n",
    "            include_self=False,\n",
    "            n_jobs=8\n",
    "        ).toarray()\n",
    "        \n",
    "        clustering = SpectralClustering(\n",
    "            n_clusters=spectral_n_clusters,\n",
    "            affinity='precomputed',\n",
    "            assign_labels='kmeans',\n",
    "            random_state=42,\n",
    "            n_jobs=8  # Use all CPUs\n",
    "        )\n",
    "        \n",
    "        # Fit clustering on train\n",
    "        clustering.fit(affinity_matrix)\n",
    "        \n",
    "        # Test set\n",
    "        affinity_matrix_test = kneighbors_graph(\n",
    "            X_test_reduced,\n",
    "            n_neighbors=spectral_n_neighbors,\n",
    "            mode='connectivity',\n",
    "            include_self=False,\n",
    "            n_jobs=8\n",
    "        ).toarray()\n",
    "        \n",
    "        clustering_test = SpectralClustering(\n",
    "            n_clusters=spectral_n_clusters,\n",
    "            affinity='precomputed',\n",
    "            assign_labels='kmeans',\n",
    "            random_state=42,\n",
    "            n_jobs=8\n",
    "        )\n",
    "        clustering_test.fit(affinity_matrix_test)\n",
    "        clusters_test = clustering_test.labels_\n",
    "        \n",
    "        # Compute final_p for the test data\n",
    "        final_p = compute_final_p(clusters_test, company_ids_test, pairs_df)\n",
    "        return final_p\n",
    "    \n",
    "    # Generate temporal folds\n",
    "    folds = get_temporal_folds(df_compinfo['year'], n_folds=2)\n",
    "    \n",
    "    # Parallel processing of folds using all CPUs\n",
    "    final_p_scores = Parallel(n_jobs=8)(\n",
    "        delayed(process_fold)(train_idx, test_idx) for train_idx, test_idx in folds\n",
    "    )\n",
    "    \n",
    "    return np.mean(final_p_scores)\n",
    "\n",
    "def save_study_callback(study, trial):\n",
    "    \"\"\"\n",
    "    Callback to save trial results to CSV after each trial completes.\n",
    "    \"\"\"\n",
    "    trial_data = {\n",
    "        'number': trial.number,\n",
    "        'value': trial.value,\n",
    "        'state': str(trial.state)\n",
    "    }\n",
    "    \n",
    "    for k, v in trial.params.items():\n",
    "        trial_data[k] = v\n",
    "    \n",
    "    df = pd.DataFrame([trial_data])\n",
    "    filename = \"./optuna study results/COPY_PALMGECKO-embedding_study_results(k=5).csv\"\n",
    "    file_exists = os.path.isfile(filename)\n",
    "    df.to_csv(filename, index=False, mode='a', header=not file_exists)\n",
    "    print(\"added\")\n",
    "    display(df)\n",
    "    print(\"\\n\")\n",
    "\n",
    "# Create and run the Optuna study\n",
    "study = optuna.create_study(direction='maximize', sampler=TPESampler(seed=42))\n",
    "study.optimize(objective, n_trials=150, timeout=32400, callbacks=[save_study_callback])"
   ]
  },
  {
   "cell_type": "code",
   "execution_count": null,
   "id": "433c6d75-bfa9-49dc-b985-5d45a7e558f7",
   "metadata": {},
   "outputs": [],
   "source": [
    "df_study = study.trials_dataframe()\n",
    "df_study"
   ]
  },
  {
   "cell_type": "markdown",
   "id": "6d12dbb3-e893-4f55-be46-db411e989f1a",
   "metadata": {},
   "source": [
    "# Get final results"
   ]
  },
  {
   "cell_type": "markdown",
   "id": "149615b8-aa37-4cb5-a763-1e5fe7f76124",
   "metadata": {},
   "source": [
    "## helper functions:"
   ]
  },
  {
   "cell_type": "code",
   "execution_count": 11,
   "id": "55d5a3b7-590f-4076-841d-491afdc840c8",
   "metadata": {
    "jupyter": {
     "source_hidden": true
    }
   },
   "outputs": [],
   "source": [
    "def get_joined(TOJOINDF):\n",
    "    # Initialize the result list\n",
    "    year_joined_df_data = []\n",
    "    \n",
    "    # Iterate over each year in the DataFrames\n",
    "    for index, row in year_cluster_df.iterrows():\n",
    "        year = row['year']\n",
    "        clusters1 = row['clusters']  # Clusters from year_cluster_df\n",
    "    \n",
    "        # Get the corresponding clusters for the same year from year_SIC_cluster_df\n",
    "        sic_row = TOJOINDF[TOJOINDF['year'] == year]\n",
    "        if sic_row.empty:\n",
    "            continue  # Skip if no matching year in SIC clusters\n",
    "        clusters2 = sic_row.iloc[0]['clusters']  # Extract the SIC clusters dictionary\n",
    "    \n",
    "        # Build a mapping from company IDs to SIC cluster IDs\n",
    "        company_sic_cluster_dict = {}\n",
    "        for sic_cluster_id, sic_companies in clusters2.items():\n",
    "            for company_id in sic_companies:\n",
    "                company_sic_cluster_dict[company_id] = sic_cluster_id\n",
    "    \n",
    "        # For each cluster in clusters1, check if all companies have the same SIC cluster ID\n",
    "        joined_clusters = {}\n",
    "        for cluster_id, companies in clusters1.items():\n",
    "            sic_cluster_ids = set()\n",
    "            for company_id in companies:\n",
    "                if company_id in company_sic_cluster_dict:\n",
    "                    sic_cluster_ids.add(company_sic_cluster_dict[company_id])\n",
    "                else:\n",
    "                    # Company not found in SIC clusters\n",
    "                    sic_cluster_ids.add(None)\n",
    "            # If all companies have the same SIC cluster ID (and not None)\n",
    "            if len(sic_cluster_ids) == 1 and None not in sic_cluster_ids:\n",
    "                # Include this cluster in joined_clusters\n",
    "                joined_clusters[cluster_id] = companies\n",
    "    \n",
    "        # Only include clusters with non-empty joined_clusters\n",
    "        if joined_clusters:\n",
    "            year_joined_df_data.append({'year': year, 'clusters': joined_clusters})\n",
    "    \n",
    "    # Convert the result list to a DataFrame\n",
    "    year_joined_df = pd.DataFrame(year_joined_df_data)\n",
    "    return year_joined_df\n",
    "\n",
    "def create_cluster_dfs(df_compinfo, year_cluster_df):\n",
    "    \"\"\"\n",
    "    Create SIC and Industry cluster DataFrames for each year.\n",
    "    \"\"\"\n",
    "    year_SIC_cluster_df = []\n",
    "    year_Industry_cluster_df = []\n",
    "\n",
    "    for year in tqdm(sorted(df_compinfo['year'].unique()), desc=\"Generating Cluster DataFrames\"):\n",
    "        # Filter companies for the year\n",
    "        year_data = df_compinfo[df_compinfo['year'] == year]\n",
    "\n",
    "        # SIC clusters\n",
    "        sic_clusters = year_data.groupby('sic_code')['__index_level_0__'].apply(list).to_dict()\n",
    "        year_SIC_cluster_df.append({'year': year, 'clusters': sic_clusters})\n",
    "\n",
    "        # Industry clusters\n",
    "        industry_clusters = year_data.groupby('industry_classification')['__index_level_0__'].apply(list).to_dict()\n",
    "        year_Industry_cluster_df.append({'year': year, 'clusters': industry_clusters})\n",
    "\n",
    "    return pd.DataFrame(year_SIC_cluster_df), pd.DataFrame(year_Industry_cluster_df)\n",
    "\n",
    "\n",
    "def calculate_avg_correlation(TO_ANALYSE_DF, cluster_df, cluster_type):\n",
    "    \"\"\"\n",
    "    Calculate the mean correlation for each cluster type per year.\n",
    "\n",
    "    Parameters:\n",
    "    - TO_ANALYSE_DF (pd.DataFrame): Original DataFrame containing 'year', 'Company1', 'Company2', and 'correlation'.\n",
    "    - cluster_df (pd.DataFrame): DataFrame with 'year' and 'clusters' columns.\n",
    "    - cluster_type (str): Description of the cluster type for labeling.\n",
    "\n",
    "    Returns:\n",
    "    - pd.DataFrame: DataFrame with 'year' and average correlation for the cluster type.\n",
    "    \"\"\"\n",
    "    avg_correlations = []\n",
    "    \n",
    "    for _, row in tqdm(cluster_df.iterrows(), desc=f\"Calculating Stats for {cluster_type}\", total=len(cluster_df)):\n",
    "        year = row['year']\n",
    "        clusters = row['clusters']\n",
    "        year_data = TO_ANALYSE_DF[TO_ANALYSE_DF['year'] == year]\n",
    "        cluster_stats = []\n",
    "        \n",
    "        for cluster_id, companies in clusters.items():\n",
    "            if len(companies) <= 1:  # Skip clusters with only 1 company\n",
    "                continue\n",
    "\n",
    "            # Get all pairs of companies within the cluster\n",
    "            cluster_pairs = year_data[\n",
    "                (year_data['Company1'].isin(companies) & year_data['Company2'].isin(companies))\n",
    "            ]\n",
    "            # Calculate statistics for the cluster\n",
    "            if not cluster_pairs.empty:\n",
    "                try:\n",
    "                    correlations = cluster_pairs['correlation']\n",
    "                except KeyError:\n",
    "                    # Handle alternative column name if 'correlation' doesn't exist\n",
    "                    correlations = cluster_pairs['ActualCorrelation']\n",
    "                cluster_stats.append(correlations.mean())\n",
    "\n",
    "        # Aggregate statistics across clusters for the year\n",
    "        if cluster_stats:\n",
    "            avg_correlations.append({\n",
    "                'year': year,\n",
    "                f'{cluster_type}AvgCorrelation': sum(cluster_stats) / len(cluster_stats)\n",
    "            })\n",
    "        else:\n",
    "            avg_correlations.append({\n",
    "                'year': year,\n",
    "                f'{cluster_type}AvgCorrelation': np.nan\n",
    "            })\n",
    "    \n",
    "    return pd.DataFrame(avg_correlations)\n"
   ]
  },
  {
   "cell_type": "code",
   "execution_count": 12,
   "id": "1956419a-3feb-442f-92be-85174cc19e9a",
   "metadata": {},
   "outputs": [
    {
     "name": "stdout",
     "output_type": "stream",
     "text": [
      "sic: 0.23108531998655252, industry: 0.1868374834363482, population: 0.1608652755353452\n"
     ]
    }
   ],
   "source": [
    "# year_SIC_cluster_df.to_pickle(\"year_SIC_cluster_mapping.pkl\")\n",
    "# year_Industry_cluster_df.to_pickle(\"year_Industry_cluster_mapping.pkl\")\n",
    "year_SIC_cluster_df = pd.read_pickle(\"year_SIC_cluster_mapping.pkl\")\n",
    "year_Industry_cluster_df = pd.read_pickle(\"year_Industry_cluster_mapping.pkl\")\n",
    "# sic_avg_corr.to_csv(\"sic_avg_corr.csv\", index=False)\n",
    "# industry_avg_corr.to_csv(\"industry_avg_corr.csv\", index=False)\n",
    "\n",
    "sic_avg_corr = pd.read_csv(\"sic_avg_corr.csv\")\n",
    "industry_avg_corr = pd.read_csv(\"industry_avg_corr.csv\")\n",
    "sic_p = sic_avg_corr.mean()[1]\n",
    "ind_p = industry_avg_corr.mean()[1]\n",
    "pop_p = pairs_df[\"correlation\"].mean()\n",
    "print(f\"sic: {sic_p}, industry: {ind_p}, population: {pop_p}\")"
   ]
  },
  {
   "cell_type": "code",
   "execution_count": 13,
   "id": "9b3278fc-09c2-411c-ab8d-c89e1bd8e32e",
   "metadata": {},
   "outputs": [],
   "source": [
    "cluster_name = \"PaLM-gecko\"\n",
    "threshold = \"best-optuna\""
   ]
  },
  {
   "cell_type": "code",
   "execution_count": 14,
   "id": "87a87e81-fa0d-4551-920a-250518f9f64b",
   "metadata": {},
   "outputs": [
    {
     "name": "stderr",
     "output_type": "stream",
     "text": [
      "\n",
      "rocessing Years: 100%|██████████| 25/25 [01:25<00:00,  3.44s/it]"
     ]
    },
    {
     "data": {
      "text/html": [
       "<div>\n",
       "<style scoped>\n",
       "    .dataframe tbody tr th:only-of-type {\n",
       "        vertical-align: middle;\n",
       "    }\n",
       "\n",
       "    .dataframe tbody tr th {\n",
       "        vertical-align: top;\n",
       "    }\n",
       "\n",
       "    .dataframe thead th {\n",
       "        text-align: right;\n",
       "    }\n",
       "</style>\n",
       "<table border=\"1\" class=\"dataframe\">\n",
       "  <thead>\n",
       "    <tr style=\"text-align: right;\">\n",
       "      <th></th>\n",
       "      <th>year</th>\n",
       "      <th>clusters</th>\n",
       "    </tr>\n",
       "  </thead>\n",
       "  <tbody>\n",
       "    <tr>\n",
       "      <th>0</th>\n",
       "      <td>1996</td>\n",
       "      <td>{23: [1455, 1442, 1440, 1210, 1563, 1693, 1760...</td>\n",
       "    </tr>\n",
       "    <tr>\n",
       "      <th>1</th>\n",
       "      <td>1997</td>\n",
       "      <td>{11: [2547, 2553, 2579, 2816, 2896, 2891, 2493...</td>\n",
       "    </tr>\n",
       "    <tr>\n",
       "      <th>2</th>\n",
       "      <td>1998</td>\n",
       "      <td>{5: [3432, 3434, 3473, 16150, 3609, 3644, 3490...</td>\n",
       "    </tr>\n",
       "    <tr>\n",
       "      <th>3</th>\n",
       "      <td>1999</td>\n",
       "      <td>{22: [21822, 21995, 21895, 10150, 16248, 16288...</td>\n",
       "    </tr>\n",
       "    <tr>\n",
       "      <th>4</th>\n",
       "      <td>2000</td>\n",
       "      <td>{4: [10165, 10172, 10214, 16323, 22051, 22058,...</td>\n",
       "    </tr>\n",
       "    <tr>\n",
       "      <th>5</th>\n",
       "      <td>2001</td>\n",
       "      <td>{20: [23841, 23849, 24378, 24307, 16495, 24318...</td>\n",
       "    </tr>\n",
       "    <tr>\n",
       "      <th>6</th>\n",
       "      <td>2002</td>\n",
       "      <td>{17: [25390, 25408, 25317, 25320, 25023, 25072...</td>\n",
       "    </tr>\n",
       "    <tr>\n",
       "      <th>7</th>\n",
       "      <td>2003</td>\n",
       "      <td>{10: [26855, 26892, 26879, 10768, 10709, 10682...</td>\n",
       "    </tr>\n",
       "    <tr>\n",
       "      <th>8</th>\n",
       "      <td>2004</td>\n",
       "      <td>{20: [27069, 26960, 27272, 27290, 27861, 27876...</td>\n",
       "    </tr>\n",
       "    <tr>\n",
       "      <th>9</th>\n",
       "      <td>2005</td>\n",
       "      <td>{10: [29602, 28298, 28267, 28271, 28437, 28401...</td>\n",
       "    </tr>\n",
       "    <tr>\n",
       "      <th>10</th>\n",
       "      <td>2006</td>\n",
       "      <td>{7: [30158, 30161, 30364, 30229, 30230, 17259,...</td>\n",
       "    </tr>\n",
       "    <tr>\n",
       "      <th>11</th>\n",
       "      <td>2007</td>\n",
       "      <td>{21: [11434, 32142, 31248, 31282, 31317, 31398...</td>\n",
       "    </tr>\n",
       "    <tr>\n",
       "      <th>12</th>\n",
       "      <td>2008</td>\n",
       "      <td>{2: [34660, 34505, 34507, 11536, 11567, 11544,...</td>\n",
       "    </tr>\n",
       "    <tr>\n",
       "      <th>13</th>\n",
       "      <td>2009</td>\n",
       "      <td>{19: [35447, 35130, 35300, 35145, 35224, 34873...</td>\n",
       "    </tr>\n",
       "    <tr>\n",
       "      <th>14</th>\n",
       "      <td>2010</td>\n",
       "      <td>{5: [37781, 37350, 37516, 37356, 37281, 37284,...</td>\n",
       "    </tr>\n",
       "    <tr>\n",
       "      <th>15</th>\n",
       "      <td>2011</td>\n",
       "      <td>{1: [18468, 18606, 39173, 39256, 39432, 39479,...</td>\n",
       "    </tr>\n",
       "    <tr>\n",
       "      <th>16</th>\n",
       "      <td>2012</td>\n",
       "      <td>{2: [42078, 41976, 41966, 43371, 43379, 18720,...</td>\n",
       "    </tr>\n",
       "    <tr>\n",
       "      <th>17</th>\n",
       "      <td>2013</td>\n",
       "      <td>{5: [43386, 45692, 43476, 43626, 43720, 43611,...</td>\n",
       "    </tr>\n",
       "    <tr>\n",
       "      <th>18</th>\n",
       "      <td>2014</td>\n",
       "      <td>{26: [48191, 45844, 46167, 19335, 19347, 46446...</td>\n",
       "    </tr>\n",
       "    <tr>\n",
       "      <th>19</th>\n",
       "      <td>2015</td>\n",
       "      <td>{5: [13636, 13656, 13620, 49655, 13741, 13704,...</td>\n",
       "    </tr>\n",
       "    <tr>\n",
       "      <th>20</th>\n",
       "      <td>2016</td>\n",
       "      <td>{11: [52365, 52290, 52376, 52834, 52639, 52659...</td>\n",
       "    </tr>\n",
       "    <tr>\n",
       "      <th>21</th>\n",
       "      <td>2017</td>\n",
       "      <td>{1: [56585, 56587, 56358, 56360, 20321, 20291,...</td>\n",
       "    </tr>\n",
       "    <tr>\n",
       "      <th>22</th>\n",
       "      <td>2018</td>\n",
       "      <td>{12: [14497, 14512, 14660, 14663, 59548, 59539...</td>\n",
       "    </tr>\n",
       "    <tr>\n",
       "      <th>23</th>\n",
       "      <td>2019</td>\n",
       "      <td>{15: [61602, 6061, 61746, 61493, 61508, 61456,...</td>\n",
       "    </tr>\n",
       "    <tr>\n",
       "      <th>24</th>\n",
       "      <td>2020</td>\n",
       "      <td>{3: [21716, 21705, 21766, 21775, 6887, 6940, 6...</td>\n",
       "    </tr>\n",
       "  </tbody>\n",
       "</table>\n",
       "</div>"
      ],
      "text/plain": [
       "    year                                           clusters\n",
       "0   1996  {23: [1455, 1442, 1440, 1210, 1563, 1693, 1760...\n",
       "1   1997  {11: [2547, 2553, 2579, 2816, 2896, 2891, 2493...\n",
       "2   1998  {5: [3432, 3434, 3473, 16150, 3609, 3644, 3490...\n",
       "3   1999  {22: [21822, 21995, 21895, 10150, 16248, 16288...\n",
       "4   2000  {4: [10165, 10172, 10214, 16323, 22051, 22058,...\n",
       "5   2001  {20: [23841, 23849, 24378, 24307, 16495, 24318...\n",
       "6   2002  {17: [25390, 25408, 25317, 25320, 25023, 25072...\n",
       "7   2003  {10: [26855, 26892, 26879, 10768, 10709, 10682...\n",
       "8   2004  {20: [27069, 26960, 27272, 27290, 27861, 27876...\n",
       "9   2005  {10: [29602, 28298, 28267, 28271, 28437, 28401...\n",
       "10  2006  {7: [30158, 30161, 30364, 30229, 30230, 17259,...\n",
       "11  2007  {21: [11434, 32142, 31248, 31282, 31317, 31398...\n",
       "12  2008  {2: [34660, 34505, 34507, 11536, 11567, 11544,...\n",
       "13  2009  {19: [35447, 35130, 35300, 35145, 35224, 34873...\n",
       "14  2010  {5: [37781, 37350, 37516, 37356, 37281, 37284,...\n",
       "15  2011  {1: [18468, 18606, 39173, 39256, 39432, 39479,...\n",
       "16  2012  {2: [42078, 41976, 41966, 43371, 43379, 18720,...\n",
       "17  2013  {5: [43386, 45692, 43476, 43626, 43720, 43611,...\n",
       "18  2014  {26: [48191, 45844, 46167, 19335, 19347, 46446...\n",
       "19  2015  {5: [13636, 13656, 13620, 49655, 13741, 13704,...\n",
       "20  2016  {11: [52365, 52290, 52376, 52834, 52639, 52659...\n",
       "21  2017  {1: [56585, 56587, 56358, 56360, 20321, 20291,...\n",
       "22  2018  {12: [14497, 14512, 14660, 14663, 59548, 59539...\n",
       "23  2019  {15: [61602, 6061, 61746, 61493, 61508, 61456,...\n",
       "24  2020  {3: [21716, 21705, 21766, 21775, 6887, 6940, 6..."
      ]
     },
     "execution_count": 14,
     "metadata": {},
     "output_type": "execute_result"
    }
   ],
   "source": [
    "import pandas as pd\n",
    "import numpy as np\n",
    "import umap\n",
    "from sklearn.cluster import SpectralClustering\n",
    "from sklearn.neighbors import kneighbors_graph\n",
    "from tqdm import tqdm\n",
    "\n",
    "# ============================================\n",
    "# Chosen parameters (example - replace with your best found parameters)\n",
    "# ============================================\n",
    "umap_n_components = 6     # e.g. best found\n",
    "umap_n_neighbors = 40     # e.g. best found\n",
    "umap_min_dist = 0.11980426929501584       # e.g. best found\n",
    "spectral_n_clusters = 27   # e.g. best found\n",
    "spectral_n_neighbors = 5\n",
    "\n",
    "# ============================================\n",
    "# Cluster Each Year\n",
    "# ============================================\n",
    "\n",
    "# Get all years sorted\n",
    "unique_years = sorted(df_compinfo['year'].unique())\n",
    "\n",
    "all_rows = []\n",
    "\n",
    "# Add tqdm to the loop for progress tracking\n",
    "for yr in tqdm(unique_years, desc=\"Processing Years\"):\n",
    "    # Filter indices for this specific year\n",
    "    idx = df_compinfo.index[df_compinfo['year'] == yr]\n",
    "    X_yr = embeddings_scaled[idx]\n",
    "\n",
    "    # Fit and transform data using UMAP for this year\n",
    "    reducer = umap.UMAP(\n",
    "        n_components=umap_n_components,\n",
    "        n_neighbors=umap_n_neighbors,\n",
    "        min_dist=umap_min_dist,\n",
    "        random_state=42,\n",
    "        low_memory=True\n",
    "    )\n",
    "    X_yr_reduced = reducer.fit_transform(X_yr)\n",
    "\n",
    "    # Create an affinity matrix for spectral clustering\n",
    "    affinity_matrix = kneighbors_graph(\n",
    "        X_yr_reduced,\n",
    "        n_neighbors=spectral_n_neighbors,\n",
    "        mode='connectivity',\n",
    "        include_self=False,\n",
    "        n_jobs=-1\n",
    "    ).toarray()\n",
    "\n",
    "    # Perform spectral clustering on this year's data\n",
    "    clustering = SpectralClustering(\n",
    "        n_clusters=spectral_n_clusters,\n",
    "        affinity='precomputed',\n",
    "        assign_labels='kmeans',\n",
    "        random_state=42,\n",
    "        n_jobs=-1\n",
    "    )\n",
    "    labels = clustering.fit_predict(affinity_matrix)\n",
    "\n",
    "    # Create a dictionary {cluster_label: [list_of_company_ids]}\n",
    "    clusters_dict = {}\n",
    "    # company_ids_this_year: the IDs for companies in this year's slice\n",
    "    company_ids_this_year = df_compinfo.loc[idx, '__index_level_0__'].values\n",
    "    for lbl, cid in zip(labels, company_ids_this_year):\n",
    "        clusters_dict.setdefault(lbl, []).append(cid)\n",
    "\n",
    "    # Append the result for this year\n",
    "    all_rows.append({'year': yr, 'clusters': clusters_dict})\n",
    "\n",
    "# Create a dataframe with columns year and clusters\n",
    "df_clusters = pd.DataFrame(all_rows, columns=['year', 'clusters'])\n",
    "\n",
    "# df_clusters will look like:\n",
    "#    year                                             clusters\n",
    "# 0  1996  {0: [1171], 1: [1172,1176,1177,1180,1183,...}, ...\n",
    "# 1  1997  {0: [2072], 1: [2073,2075,2076,2077,2083,...}, ...\n",
    "df_clusters\n"
   ]
  },
  {
   "cell_type": "code",
   "execution_count": null,
   "id": "3528121a-47cf-4c36-b578-cdcc7ed1c174",
   "metadata": {},
   "outputs": [],
   "source": [
    "pairs_ds = load_dataset(\"v1ctor10/cos_sim_4000pca_exp\")\n",
    "pairs_df = pairs_ds['train'].to_pandas()"
   ]
  },
  {
   "cell_type": "code",
   "execution_count": 16,
   "id": "497549ab-81b5-44e4-8ca5-8fe6ec18e589",
   "metadata": {},
   "outputs": [
    {
     "name": "stderr",
     "output_type": "stream",
     "text": [
      "\n",
      "\n",
      "\n",
      "\n",
      "alculating Stats for CustomCluster: 100%|██████████| 25/25 [00:03<00:00,  7.01it/s]5it/s]"
     ]
    }
   ],
   "source": [
    "year_cluster_df = df_clusters\n",
    "TO_ANALYSE_DF = pairs_df\n",
    "\n",
    "TO_ANALYSE_DF['year'] = TO_ANALYSE_DF['year'].astype(int)\n",
    "year_cluster_df[\"year\"] = year_cluster_df[\"year\"].astype(int)\n",
    "\n",
    "# Create SIC and Industry cluster DataFrames\n",
    "year_cluster_df['clusters'] = year_cluster_df['clusters'].apply(lambda x: {k: v for k, v in x.items() if k != -1})\n",
    "year_SIC_cluster_df, year_Industry_cluster_df = create_cluster_dfs(df_compinfo, TO_ANALYSE_DF)\n",
    "\n",
    "year_cluster_df[\"year\"] = year_cluster_df[\"year\"].astype(int)\n",
    "year_SIC_cluster_df[\"year\"]= year_SIC_cluster_df[\"year\"].astype(int)\n",
    "year_Industry_cluster_df[\"year\"]= year_Industry_cluster_df[\"year\"].astype(int)\n",
    "\n",
    "TO_ANALYSE_DF['year'] = TO_ANALYSE_DF['year'].astype(int)\n",
    "year_cluster_df[\"year\"] = year_cluster_df[\"year\"].astype(int)\n",
    "year_SIC_cluster_df[\"year\"]= year_SIC_cluster_df[\"year\"].astype(int)\n",
    "year_Industry_cluster_df[\"year\"]= year_Industry_cluster_df[\"year\"].astype(int)\n",
    "\n",
    "year_Industry_joined_df = get_joined(year_Industry_cluster_df)\n",
    "year_SIC_joined_df = get_joined(year_SIC_cluster_df)\n",
    "\n",
    "\n",
    "\n",
    "# Calculate average correlations for custom clusters, SIC, and Industry\n",
    "\n",
    "try:\n",
    "    year_Industry_joined_df[\"year\"] = year_Industry_joined_df[\"year\"].astype(int)\n",
    "    Industry_joined_cluster_avg_corr = calculate_avg_correlation(TO_ANALYSE_DF, year_Industry_joined_df, \"IndustryJoinedCluster\")\n",
    "\n",
    "except:\n",
    "    pass\n",
    "try:\n",
    "    year_SIC_joined_df[\"year\"] = year_SIC_joined_df[\"year\"].astype(int)\n",
    "    SIC_joined_cluster_avg_corr = calculate_avg_correlation(TO_ANALYSE_DF, year_SIC_joined_df, \"SICJoinedCluster\")\n",
    "except:\n",
    "    pass\n",
    "    \n",
    "custom_cluster_avg_corr = calculate_avg_correlation(TO_ANALYSE_DF, year_cluster_df, \"CustomCluster\")\n",
    "# sic_avg_corr = calculate_avg_correlation(pairs_df, year_SIC_cluster_df, \"SIC\")\n",
    "# industry_avg_corr = calculate_avg_correlation(pairs_df, year_Industry_cluster_df, \"Industry\")\n",
    "\n",
    "final_results = pd.merge(custom_cluster_avg_corr, sic_avg_corr, on='year', how='outer')\n",
    "final_results = pd.merge(final_results, industry_avg_corr, on='year', how='outer')\n",
    "try:\n",
    "    final_results = pd.merge(final_results, Industry_joined_cluster_avg_corr, on='year', how='outer')\n",
    "except:\n",
    "    pass\n",
    "try:\n",
    "    final_results = pd.merge(final_results, SIC_joined_cluster_avg_corr, on='year', how='outer')\n",
    "except:\n",
    "    pass\n",
    "\n",
    "\n",
    "temp_results = final_results"
   ]
  },
  {
   "cell_type": "code",
   "execution_count": 23,
   "id": "a8e1ec4f-4aa6-441d-a6ff-1d23c91ea29b",
   "metadata": {},
   "outputs": [
    {
     "data": {
      "application/vnd.plotly.v1+json": {
       "config": {
        "plotlyServerURL": "https://plot.ly"
       },
       "data": [
        {
         "line": {
          "color": "navy",
          "dash": "solid",
          "width": 2.5
         },
         "marker": {
          "size": 6,
          "symbol": "circle"
         },
         "mode": "lines+markers",
         "name": "PaLM-gecko Cluster (ρ̄: 0.219)",
         "type": "scatter",
         "x": [
          1996,
          1997,
          1998,
          1999,
          2000,
          2001,
          2002,
          2003,
          2004,
          2005,
          2006,
          2007,
          2008,
          2009,
          2010,
          2011,
          2012,
          2013,
          2014,
          2015,
          2016,
          2017,
          2018,
          2019,
          2020
         ],
         "y": [
          0.169852286443548,
          0.2119201725901885,
          0.3035008268733949,
          0.1654930884805492,
          0.16163643582183906,
          0.20033487101124697,
          0.2641442114499167,
          0.2148687298593973,
          0.23821269092108258,
          0.20876918796296692,
          0.15754192216835902,
          0.18628896752106758,
          0.3064533117887509,
          0.2394384146740831,
          0.2996105595423681,
          0.3023736607617231,
          0.15661304870184298,
          0.16983977477103138,
          0.21482840791306135,
          0.196772014908214,
          0.18605328685648445,
          0.1123782292031169,
          0.2581277990779413,
          0.1677785807998212,
          0.39452414846810224
         ]
        },
        {
         "line": {
          "color": "purple",
          "dash": "solid",
          "width": 2.5
         },
         "marker": {
          "size": 6,
          "symbol": "triangle-up"
         },
         "mode": "lines+markers",
         "name": "PaLM-gecko ∩ SIC Joined (ρ̄: 0.591)",
         "type": "scatter",
         "x": [
          1996,
          1997,
          1998,
          1999,
          2000,
          2001,
          2002,
          2003,
          2004,
          2005,
          2006,
          2007,
          2008,
          2009,
          2010,
          2011,
          2012,
          2013,
          2014,
          2015,
          2016,
          2017,
          2018,
          2019,
          2020
         ],
         "y": [
          null,
          null,
          null,
          null,
          null,
          null,
          null,
          null,
          null,
          null,
          null,
          null,
          0.5328827022168038,
          0.4448573674779341,
          null,
          0.7946115298681737,
          null,
          null,
          null,
          null,
          null,
          null,
          null,
          null,
          null
         ]
        },
        {
         "line": {
          "color": "darkolivegreen",
          "dash": "solid",
          "width": 2.5
         },
         "marker": {
          "size": 6,
          "symbol": "triangle-up"
         },
         "mode": "lines+markers",
         "name": "PaLM-gecko ∩ BISC Joined (ρ̄: 0.296)",
         "type": "scatter",
         "x": [
          1996,
          1997,
          1998,
          1999,
          2000,
          2001,
          2002,
          2003,
          2004,
          2005,
          2006,
          2007,
          2008,
          2009,
          2010,
          2011,
          2012,
          2013,
          2014,
          2015,
          2016,
          2017,
          2018,
          2019,
          2020
         ],
         "y": [
          0.11127630360906533,
          0.14324938781721105,
          0.3456323147002068,
          0.2312397746972884,
          0.20795449657638662,
          0.10581161609242101,
          0.21572813960549445,
          0.22885031020913668,
          0.4264810126105274,
          0.3310923771148755,
          0.14204549688055038,
          0.13576781930977025,
          0.37697756642597563,
          0.3906722704764982,
          0.3881003560582902,
          0.6237692653828255,
          0.2888074163468201,
          0.4130508298923739,
          0.32503150886443366,
          0.35350146123635046,
          0.16295279583723957,
          0.18931038925101676,
          0.4032369938182268,
          0.3349261889591558,
          0.5188662818510711
         ]
        },
        {
         "line": {
          "color": "orchid",
          "dash": "dot",
          "width": 2
         },
         "marker": {
          "size": 6,
          "symbol": "square"
         },
         "mode": "lines+markers",
         "name": "SIC (ρ̄: 0.231)",
         "type": "scatter",
         "x": [
          1996,
          1997,
          1998,
          1999,
          2000,
          2001,
          2002,
          2003,
          2004,
          2005,
          2006,
          2007,
          2008,
          2009,
          2010,
          2011,
          2012,
          2013,
          2014,
          2015,
          2016,
          2017,
          2018,
          2019,
          2020
         ],
         "y": [
          0.2032181430864976,
          0.1839761562967556,
          0.2974625011774358,
          0.1529178357807624,
          0.1222194087883948,
          0.2296429639045881,
          0.288413969879174,
          0.2379031824015059,
          0.2236385234679918,
          0.2378103147554799,
          0.185336245593625,
          0.1804856606568908,
          0.3200995533533615,
          0.2875310452127806,
          0.3287056326263896,
          0.2946918236099901,
          0.1591475820125001,
          0.1433944918139253,
          0.2175587452097434,
          0.2084357897613245,
          0.1929870700003756,
          0.1670279660917034,
          0.296453485259106,
          0.2264469091765212,
          0.3916279997469902
         ]
        },
        {
         "line": {
          "color": "yellowgreen",
          "dash": "dot",
          "width": 2
         },
         "marker": {
          "size": 6,
          "symbol": "triangle-up"
         },
         "mode": "lines+markers",
         "name": "BISC (ρ̄: 0.187)",
         "type": "scatter",
         "x": [
          1996,
          1997,
          1998,
          1999,
          2000,
          2001,
          2002,
          2003,
          2004,
          2005,
          2006,
          2007,
          2008,
          2009,
          2010,
          2011,
          2012,
          2013,
          2014,
          2015,
          2016,
          2017,
          2018,
          2019,
          2020
         ],
         "y": [
          0.1705428799055729,
          0.1602644840518929,
          0.2389423624773088,
          0.1266814878697364,
          0.1510607634472925,
          0.1582358080474158,
          0.2720905845291434,
          0.2038029912226461,
          0.212452643178334,
          0.2383910451890931,
          0.0904547861050599,
          0.1114438113841969,
          0.2533298297055279,
          0.1863271347489684,
          0.2848830252493989,
          0.2774084207563165,
          0.1222718218013636,
          0.1257538429263627,
          0.1431713102414221,
          0.1733948424727154,
          0.1180495753401795,
          0.1195959439109879,
          0.2489288592214453,
          0.1306041077612312,
          0.3528547243650937
         ]
        }
       ],
       "layout": {
        "height": 800,
        "legend": {
         "bgcolor": "rgba(255,255,255,0.8)",
         "bordercolor": "black",
         "borderwidth": 0.5,
         "font": {
          "size": 13
         },
         "title": {
          "font": {
           "size": 15
          },
          "text": "Clustering Methods"
         },
         "x": 0.01,
         "y": 0.99
        },
        "margin": {
         "b": 50,
         "l": 50,
         "r": 50,
         "t": 100
        },
        "template": {
         "data": {
          "bar": [
           {
            "error_x": {
             "color": "#2a3f5f"
            },
            "error_y": {
             "color": "#2a3f5f"
            },
            "marker": {
             "line": {
              "color": "white",
              "width": 0.5
             },
             "pattern": {
              "fillmode": "overlay",
              "size": 10,
              "solidity": 0.2
             }
            },
            "type": "bar"
           }
          ],
          "barpolar": [
           {
            "marker": {
             "line": {
              "color": "white",
              "width": 0.5
             },
             "pattern": {
              "fillmode": "overlay",
              "size": 10,
              "solidity": 0.2
             }
            },
            "type": "barpolar"
           }
          ],
          "carpet": [
           {
            "aaxis": {
             "endlinecolor": "#2a3f5f",
             "gridcolor": "#C8D4E3",
             "linecolor": "#C8D4E3",
             "minorgridcolor": "#C8D4E3",
             "startlinecolor": "#2a3f5f"
            },
            "baxis": {
             "endlinecolor": "#2a3f5f",
             "gridcolor": "#C8D4E3",
             "linecolor": "#C8D4E3",
             "minorgridcolor": "#C8D4E3",
             "startlinecolor": "#2a3f5f"
            },
            "type": "carpet"
           }
          ],
          "choropleth": [
           {
            "colorbar": {
             "outlinewidth": 0,
             "ticks": ""
            },
            "type": "choropleth"
           }
          ],
          "contour": [
           {
            "colorbar": {
             "outlinewidth": 0,
             "ticks": ""
            },
            "colorscale": [
             [
              0,
              "#0d0887"
             ],
             [
              0.1111111111111111,
              "#46039f"
             ],
             [
              0.2222222222222222,
              "#7201a8"
             ],
             [
              0.3333333333333333,
              "#9c179e"
             ],
             [
              0.4444444444444444,
              "#bd3786"
             ],
             [
              0.5555555555555556,
              "#d8576b"
             ],
             [
              0.6666666666666666,
              "#ed7953"
             ],
             [
              0.7777777777777778,
              "#fb9f3a"
             ],
             [
              0.8888888888888888,
              "#fdca26"
             ],
             [
              1,
              "#f0f921"
             ]
            ],
            "type": "contour"
           }
          ],
          "contourcarpet": [
           {
            "colorbar": {
             "outlinewidth": 0,
             "ticks": ""
            },
            "type": "contourcarpet"
           }
          ],
          "heatmap": [
           {
            "colorbar": {
             "outlinewidth": 0,
             "ticks": ""
            },
            "colorscale": [
             [
              0,
              "#0d0887"
             ],
             [
              0.1111111111111111,
              "#46039f"
             ],
             [
              0.2222222222222222,
              "#7201a8"
             ],
             [
              0.3333333333333333,
              "#9c179e"
             ],
             [
              0.4444444444444444,
              "#bd3786"
             ],
             [
              0.5555555555555556,
              "#d8576b"
             ],
             [
              0.6666666666666666,
              "#ed7953"
             ],
             [
              0.7777777777777778,
              "#fb9f3a"
             ],
             [
              0.8888888888888888,
              "#fdca26"
             ],
             [
              1,
              "#f0f921"
             ]
            ],
            "type": "heatmap"
           }
          ],
          "heatmapgl": [
           {
            "colorbar": {
             "outlinewidth": 0,
             "ticks": ""
            },
            "colorscale": [
             [
              0,
              "#0d0887"
             ],
             [
              0.1111111111111111,
              "#46039f"
             ],
             [
              0.2222222222222222,
              "#7201a8"
             ],
             [
              0.3333333333333333,
              "#9c179e"
             ],
             [
              0.4444444444444444,
              "#bd3786"
             ],
             [
              0.5555555555555556,
              "#d8576b"
             ],
             [
              0.6666666666666666,
              "#ed7953"
             ],
             [
              0.7777777777777778,
              "#fb9f3a"
             ],
             [
              0.8888888888888888,
              "#fdca26"
             ],
             [
              1,
              "#f0f921"
             ]
            ],
            "type": "heatmapgl"
           }
          ],
          "histogram": [
           {
            "marker": {
             "pattern": {
              "fillmode": "overlay",
              "size": 10,
              "solidity": 0.2
             }
            },
            "type": "histogram"
           }
          ],
          "histogram2d": [
           {
            "colorbar": {
             "outlinewidth": 0,
             "ticks": ""
            },
            "colorscale": [
             [
              0,
              "#0d0887"
             ],
             [
              0.1111111111111111,
              "#46039f"
             ],
             [
              0.2222222222222222,
              "#7201a8"
             ],
             [
              0.3333333333333333,
              "#9c179e"
             ],
             [
              0.4444444444444444,
              "#bd3786"
             ],
             [
              0.5555555555555556,
              "#d8576b"
             ],
             [
              0.6666666666666666,
              "#ed7953"
             ],
             [
              0.7777777777777778,
              "#fb9f3a"
             ],
             [
              0.8888888888888888,
              "#fdca26"
             ],
             [
              1,
              "#f0f921"
             ]
            ],
            "type": "histogram2d"
           }
          ],
          "histogram2dcontour": [
           {
            "colorbar": {
             "outlinewidth": 0,
             "ticks": ""
            },
            "colorscale": [
             [
              0,
              "#0d0887"
             ],
             [
              0.1111111111111111,
              "#46039f"
             ],
             [
              0.2222222222222222,
              "#7201a8"
             ],
             [
              0.3333333333333333,
              "#9c179e"
             ],
             [
              0.4444444444444444,
              "#bd3786"
             ],
             [
              0.5555555555555556,
              "#d8576b"
             ],
             [
              0.6666666666666666,
              "#ed7953"
             ],
             [
              0.7777777777777778,
              "#fb9f3a"
             ],
             [
              0.8888888888888888,
              "#fdca26"
             ],
             [
              1,
              "#f0f921"
             ]
            ],
            "type": "histogram2dcontour"
           }
          ],
          "mesh3d": [
           {
            "colorbar": {
             "outlinewidth": 0,
             "ticks": ""
            },
            "type": "mesh3d"
           }
          ],
          "parcoords": [
           {
            "line": {
             "colorbar": {
              "outlinewidth": 0,
              "ticks": ""
             }
            },
            "type": "parcoords"
           }
          ],
          "pie": [
           {
            "automargin": true,
            "type": "pie"
           }
          ],
          "scatter": [
           {
            "fillpattern": {
             "fillmode": "overlay",
             "size": 10,
             "solidity": 0.2
            },
            "type": "scatter"
           }
          ],
          "scatter3d": [
           {
            "line": {
             "colorbar": {
              "outlinewidth": 0,
              "ticks": ""
             }
            },
            "marker": {
             "colorbar": {
              "outlinewidth": 0,
              "ticks": ""
             }
            },
            "type": "scatter3d"
           }
          ],
          "scattercarpet": [
           {
            "marker": {
             "colorbar": {
              "outlinewidth": 0,
              "ticks": ""
             }
            },
            "type": "scattercarpet"
           }
          ],
          "scattergeo": [
           {
            "marker": {
             "colorbar": {
              "outlinewidth": 0,
              "ticks": ""
             }
            },
            "type": "scattergeo"
           }
          ],
          "scattergl": [
           {
            "marker": {
             "colorbar": {
              "outlinewidth": 0,
              "ticks": ""
             }
            },
            "type": "scattergl"
           }
          ],
          "scattermapbox": [
           {
            "marker": {
             "colorbar": {
              "outlinewidth": 0,
              "ticks": ""
             }
            },
            "type": "scattermapbox"
           }
          ],
          "scatterpolar": [
           {
            "marker": {
             "colorbar": {
              "outlinewidth": 0,
              "ticks": ""
             }
            },
            "type": "scatterpolar"
           }
          ],
          "scatterpolargl": [
           {
            "marker": {
             "colorbar": {
              "outlinewidth": 0,
              "ticks": ""
             }
            },
            "type": "scatterpolargl"
           }
          ],
          "scatterternary": [
           {
            "marker": {
             "colorbar": {
              "outlinewidth": 0,
              "ticks": ""
             }
            },
            "type": "scatterternary"
           }
          ],
          "surface": [
           {
            "colorbar": {
             "outlinewidth": 0,
             "ticks": ""
            },
            "colorscale": [
             [
              0,
              "#0d0887"
             ],
             [
              0.1111111111111111,
              "#46039f"
             ],
             [
              0.2222222222222222,
              "#7201a8"
             ],
             [
              0.3333333333333333,
              "#9c179e"
             ],
             [
              0.4444444444444444,
              "#bd3786"
             ],
             [
              0.5555555555555556,
              "#d8576b"
             ],
             [
              0.6666666666666666,
              "#ed7953"
             ],
             [
              0.7777777777777778,
              "#fb9f3a"
             ],
             [
              0.8888888888888888,
              "#fdca26"
             ],
             [
              1,
              "#f0f921"
             ]
            ],
            "type": "surface"
           }
          ],
          "table": [
           {
            "cells": {
             "fill": {
              "color": "#EBF0F8"
             },
             "line": {
              "color": "white"
             }
            },
            "header": {
             "fill": {
              "color": "#C8D4E3"
             },
             "line": {
              "color": "white"
             }
            },
            "type": "table"
           }
          ]
         },
         "layout": {
          "annotationdefaults": {
           "arrowcolor": "#2a3f5f",
           "arrowhead": 0,
           "arrowwidth": 1
          },
          "autotypenumbers": "strict",
          "coloraxis": {
           "colorbar": {
            "outlinewidth": 0,
            "ticks": ""
           }
          },
          "colorscale": {
           "diverging": [
            [
             0,
             "#8e0152"
            ],
            [
             0.1,
             "#c51b7d"
            ],
            [
             0.2,
             "#de77ae"
            ],
            [
             0.3,
             "#f1b6da"
            ],
            [
             0.4,
             "#fde0ef"
            ],
            [
             0.5,
             "#f7f7f7"
            ],
            [
             0.6,
             "#e6f5d0"
            ],
            [
             0.7,
             "#b8e186"
            ],
            [
             0.8,
             "#7fbc41"
            ],
            [
             0.9,
             "#4d9221"
            ],
            [
             1,
             "#276419"
            ]
           ],
           "sequential": [
            [
             0,
             "#0d0887"
            ],
            [
             0.1111111111111111,
             "#46039f"
            ],
            [
             0.2222222222222222,
             "#7201a8"
            ],
            [
             0.3333333333333333,
             "#9c179e"
            ],
            [
             0.4444444444444444,
             "#bd3786"
            ],
            [
             0.5555555555555556,
             "#d8576b"
            ],
            [
             0.6666666666666666,
             "#ed7953"
            ],
            [
             0.7777777777777778,
             "#fb9f3a"
            ],
            [
             0.8888888888888888,
             "#fdca26"
            ],
            [
             1,
             "#f0f921"
            ]
           ],
           "sequentialminus": [
            [
             0,
             "#0d0887"
            ],
            [
             0.1111111111111111,
             "#46039f"
            ],
            [
             0.2222222222222222,
             "#7201a8"
            ],
            [
             0.3333333333333333,
             "#9c179e"
            ],
            [
             0.4444444444444444,
             "#bd3786"
            ],
            [
             0.5555555555555556,
             "#d8576b"
            ],
            [
             0.6666666666666666,
             "#ed7953"
            ],
            [
             0.7777777777777778,
             "#fb9f3a"
            ],
            [
             0.8888888888888888,
             "#fdca26"
            ],
            [
             1,
             "#f0f921"
            ]
           ]
          },
          "colorway": [
           "#636efa",
           "#EF553B",
           "#00cc96",
           "#ab63fa",
           "#FFA15A",
           "#19d3f3",
           "#FF6692",
           "#B6E880",
           "#FF97FF",
           "#FECB52"
          ],
          "font": {
           "color": "#2a3f5f"
          },
          "geo": {
           "bgcolor": "white",
           "lakecolor": "white",
           "landcolor": "white",
           "showlakes": true,
           "showland": true,
           "subunitcolor": "#C8D4E3"
          },
          "hoverlabel": {
           "align": "left"
          },
          "hovermode": "closest",
          "mapbox": {
           "style": "light"
          },
          "paper_bgcolor": "white",
          "plot_bgcolor": "white",
          "polar": {
           "angularaxis": {
            "gridcolor": "#EBF0F8",
            "linecolor": "#EBF0F8",
            "ticks": ""
           },
           "bgcolor": "white",
           "radialaxis": {
            "gridcolor": "#EBF0F8",
            "linecolor": "#EBF0F8",
            "ticks": ""
           }
          },
          "scene": {
           "xaxis": {
            "backgroundcolor": "white",
            "gridcolor": "#DFE8F3",
            "gridwidth": 2,
            "linecolor": "#EBF0F8",
            "showbackground": true,
            "ticks": "",
            "zerolinecolor": "#EBF0F8"
           },
           "yaxis": {
            "backgroundcolor": "white",
            "gridcolor": "#DFE8F3",
            "gridwidth": 2,
            "linecolor": "#EBF0F8",
            "showbackground": true,
            "ticks": "",
            "zerolinecolor": "#EBF0F8"
           },
           "zaxis": {
            "backgroundcolor": "white",
            "gridcolor": "#DFE8F3",
            "gridwidth": 2,
            "linecolor": "#EBF0F8",
            "showbackground": true,
            "ticks": "",
            "zerolinecolor": "#EBF0F8"
           }
          },
          "shapedefaults": {
           "line": {
            "color": "#2a3f5f"
           }
          },
          "ternary": {
           "aaxis": {
            "gridcolor": "#DFE8F3",
            "linecolor": "#A2B1C6",
            "ticks": ""
           },
           "baxis": {
            "gridcolor": "#DFE8F3",
            "linecolor": "#A2B1C6",
            "ticks": ""
           },
           "bgcolor": "white",
           "caxis": {
            "gridcolor": "#DFE8F3",
            "linecolor": "#A2B1C6",
            "ticks": ""
           }
          },
          "title": {
           "x": 0.05
          },
          "xaxis": {
           "automargin": true,
           "gridcolor": "#EBF0F8",
           "linecolor": "#EBF0F8",
           "ticks": "",
           "title": {
            "standoff": 15
           },
           "zerolinecolor": "#EBF0F8",
           "zerolinewidth": 2
          },
          "yaxis": {
           "automargin": true,
           "gridcolor": "#EBF0F8",
           "linecolor": "#EBF0F8",
           "ticks": "",
           "title": {
            "standoff": 15
           },
           "zerolinecolor": "#EBF0F8",
           "zerolinewidth": 2
          }
         }
        },
        "title": {
         "font": {
          "size": 25
         },
         "text": "<b>Mean Correlation of PaLM-gecko Clustering Model against Benchmark Groups</b><br>",
         "x": 0.5,
         "xanchor": "center"
        },
        "width": 1300,
        "xaxis": {
         "dtick": 1,
         "tickfont": {
          "size": 13
         },
         "tickmode": "linear",
         "title": {
          "font": {
           "size": 20
          },
          "text": "Year"
         }
        },
        "yaxis": {
         "tickfont": {
          "size": 15
         },
         "tickformat": ".2f",
         "title": {
          "font": {
           "size": 20
          },
          "text": "Mean Correlation"
         }
        }
       }
      },
      "image/png": "[encoded data removed]",
      "text/html": [
       "<div>                            <div id=\"ab5b3388-96c6-4400-8a41-00c840addac7\" class=\"plotly-graph-div\" style=\"height:800px; width:1300px;\"></div>            <script type=\"text/javascript\">                require([\"plotly\"], function(Plotly) {                    window.PLOTLYENV=window.PLOTLYENV || {};                                    if (document.getElementById(\"ab5b3388-96c6-4400-8a41-00c840addac7\")) {                    Plotly.newPlot(                        \"ab5b3388-96c6-4400-8a41-00c840addac7\",                        [{\"line\":{\"color\":\"navy\",\"dash\":\"solid\",\"width\":2.5},\"marker\":{\"size\":6,\"symbol\":\"circle\"},\"mode\":\"lines+markers\",\"name\":\"PaLM-gecko Cluster (\\u03c1\\u0304: 0.219)\",\"x\":[1996,1997,1998,1999,2000,2001,2002,2003,2004,2005,2006,2007,2008,2009,2010,2011,2012,2013,2014,2015,2016,2017,2018,2019,2020],\"y\":[0.169852286443548,0.2119201725901885,0.3035008268733949,0.1654930884805492,0.16163643582183906,0.20033487101124697,0.2641442114499167,0.2148687298593973,0.23821269092108258,0.20876918796296692,0.15754192216835902,0.18628896752106758,0.3064533117887509,0.2394384146740831,0.2996105595423681,0.3023736607617231,0.15661304870184298,0.16983977477103138,0.21482840791306135,0.196772014908214,0.18605328685648445,0.1123782292031169,0.2581277990779413,0.1677785807998212,0.39452414846810224],\"type\":\"scatter\"},{\"line\":{\"color\":\"purple\",\"dash\":\"solid\",\"width\":2.5},\"marker\":{\"size\":6,\"symbol\":\"triangle-up\"},\"mode\":\"lines+markers\",\"name\":\"PaLM-gecko \\u2229 SIC Joined (\\u03c1\\u0304: 0.591)\",\"x\":[1996,1997,1998,1999,2000,2001,2002,2003,2004,2005,2006,2007,2008,2009,2010,2011,2012,2013,2014,2015,2016,2017,2018,2019,2020],\"y\":[null,null,null,null,null,null,null,null,null,null,null,null,0.5328827022168038,0.4448573674779341,null,0.7946115298681737,null,null,null,null,null,null,null,null,null],\"type\":\"scatter\"},{\"line\":{\"color\":\"darkolivegreen\",\"dash\":\"solid\",\"width\":2.5},\"marker\":{\"size\":6,\"symbol\":\"triangle-up\"},\"mode\":\"lines+markers\",\"name\":\"PaLM-gecko \\u2229 BISC Joined (\\u03c1\\u0304: 0.296)\",\"x\":[1996,1997,1998,1999,2000,2001,2002,2003,2004,2005,2006,2007,2008,2009,2010,2011,2012,2013,2014,2015,2016,2017,2018,2019,2020],\"y\":[0.11127630360906533,0.14324938781721105,0.3456323147002068,0.2312397746972884,0.20795449657638662,0.10581161609242101,0.21572813960549445,0.22885031020913668,0.4264810126105274,0.3310923771148755,0.14204549688055038,0.13576781930977025,0.37697756642597563,0.3906722704764982,0.3881003560582902,0.6237692653828255,0.2888074163468201,0.4130508298923739,0.32503150886443366,0.35350146123635046,0.16295279583723957,0.18931038925101676,0.4032369938182268,0.3349261889591558,0.5188662818510711],\"type\":\"scatter\"},{\"line\":{\"color\":\"orchid\",\"dash\":\"dot\",\"width\":2},\"marker\":{\"size\":6,\"symbol\":\"square\"},\"mode\":\"lines+markers\",\"name\":\"SIC (\\u03c1\\u0304: 0.231)\",\"x\":[1996,1997,1998,1999,2000,2001,2002,2003,2004,2005,2006,2007,2008,2009,2010,2011,2012,2013,2014,2015,2016,2017,2018,2019,2020],\"y\":[0.2032181430864976,0.1839761562967556,0.2974625011774358,0.1529178357807624,0.1222194087883948,0.2296429639045881,0.288413969879174,0.2379031824015059,0.2236385234679918,0.2378103147554799,0.185336245593625,0.1804856606568908,0.3200995533533615,0.2875310452127806,0.3287056326263896,0.2946918236099901,0.1591475820125001,0.1433944918139253,0.2175587452097434,0.2084357897613245,0.1929870700003756,0.1670279660917034,0.296453485259106,0.2264469091765212,0.3916279997469902],\"type\":\"scatter\"},{\"line\":{\"color\":\"yellowgreen\",\"dash\":\"dot\",\"width\":2},\"marker\":{\"size\":6,\"symbol\":\"triangle-up\"},\"mode\":\"lines+markers\",\"name\":\"BISC (\\u03c1\\u0304: 0.187)\",\"x\":[1996,1997,1998,1999,2000,2001,2002,2003,2004,2005,2006,2007,2008,2009,2010,2011,2012,2013,2014,2015,2016,2017,2018,2019,2020],\"y\":[0.1705428799055729,0.1602644840518929,0.2389423624773088,0.1266814878697364,0.1510607634472925,0.1582358080474158,0.2720905845291434,0.2038029912226461,0.212452643178334,0.2383910451890931,0.0904547861050599,0.1114438113841969,0.2533298297055279,0.1863271347489684,0.2848830252493989,0.2774084207563165,0.1222718218013636,0.1257538429263627,0.1431713102414221,0.1733948424727154,0.1180495753401795,0.1195959439109879,0.2489288592214453,0.1306041077612312,0.3528547243650937],\"type\":\"scatter\"}],                        {\"template\":{\"data\":{\"barpolar\":[{\"marker\":{\"line\":{\"color\":\"white\",\"width\":0.5},\"pattern\":{\"fillmode\":\"overlay\",\"size\":10,\"solidity\":0.2}},\"type\":\"barpolar\"}],\"bar\":[{\"error_x\":{\"color\":\"#2a3f5f\"},\"error_y\":{\"color\":\"#2a3f5f\"},\"marker\":{\"line\":{\"color\":\"white\",\"width\":0.5},\"pattern\":{\"fillmode\":\"overlay\",\"size\":10,\"solidity\":0.2}},\"type\":\"bar\"}],\"carpet\":[{\"aaxis\":{\"endlinecolor\":\"#2a3f5f\",\"gridcolor\":\"#C8D4E3\",\"linecolor\":\"#C8D4E3\",\"minorgridcolor\":\"#C8D4E3\",\"startlinecolor\":\"#2a3f5f\"},\"baxis\":{\"endlinecolor\":\"#2a3f5f\",\"gridcolor\":\"#C8D4E3\",\"linecolor\":\"#C8D4E3\",\"minorgridcolor\":\"#C8D4E3\",\"startlinecolor\":\"#2a3f5f\"},\"type\":\"carpet\"}],\"choropleth\":[{\"colorbar\":{\"outlinewidth\":0,\"ticks\":\"\"},\"type\":\"choropleth\"}],\"contourcarpet\":[{\"colorbar\":{\"outlinewidth\":0,\"ticks\":\"\"},\"type\":\"contourcarpet\"}],\"contour\":[{\"colorbar\":{\"outlinewidth\":0,\"ticks\":\"\"},\"colorscale\":[[0.0,\"#0d0887\"],[0.1111111111111111,\"#46039f\"],[0.2222222222222222,\"#7201a8\"],[0.3333333333333333,\"#9c179e\"],[0.4444444444444444,\"#bd3786\"],[0.5555555555555556,\"#d8576b\"],[0.6666666666666666,\"#ed7953\"],[0.7777777777777778,\"#fb9f3a\"],[0.8888888888888888,\"#fdca26\"],[1.0,\"#f0f921\"]],\"type\":\"contour\"}],\"heatmapgl\":[{\"colorbar\":{\"outlinewidth\":0,\"ticks\":\"\"},\"colorscale\":[[0.0,\"#0d0887\"],[0.1111111111111111,\"#46039f\"],[0.2222222222222222,\"#7201a8\"],[0.3333333333333333,\"#9c179e\"],[0.4444444444444444,\"#bd3786\"],[0.5555555555555556,\"#d8576b\"],[0.6666666666666666,\"#ed7953\"],[0.7777777777777778,\"#fb9f3a\"],[0.8888888888888888,\"#fdca26\"],[1.0,\"#f0f921\"]],\"type\":\"heatmapgl\"}],\"heatmap\":[{\"colorbar\":{\"outlinewidth\":0,\"ticks\":\"\"},\"colorscale\":[[0.0,\"#0d0887\"],[0.1111111111111111,\"#46039f\"],[0.2222222222222222,\"#7201a8\"],[0.3333333333333333,\"#9c179e\"],[0.4444444444444444,\"#bd3786\"],[0.5555555555555556,\"#d8576b\"],[0.6666666666666666,\"#ed7953\"],[0.7777777777777778,\"#fb9f3a\"],[0.8888888888888888,\"#fdca26\"],[1.0,\"#f0f921\"]],\"type\":\"heatmap\"}],\"histogram2dcontour\":[{\"colorbar\":{\"outlinewidth\":0,\"ticks\":\"\"},\"colorscale\":[[0.0,\"#0d0887\"],[0.1111111111111111,\"#46039f\"],[0.2222222222222222,\"#7201a8\"],[0.3333333333333333,\"#9c179e\"],[0.4444444444444444,\"#bd3786\"],[0.5555555555555556,\"#d8576b\"],[0.6666666666666666,\"#ed7953\"],[0.7777777777777778,\"#fb9f3a\"],[0.8888888888888888,\"#fdca26\"],[1.0,\"#f0f921\"]],\"type\":\"histogram2dcontour\"}],\"histogram2d\":[{\"colorbar\":{\"outlinewidth\":0,\"ticks\":\"\"},\"colorscale\":[[0.0,\"#0d0887\"],[0.1111111111111111,\"#46039f\"],[0.2222222222222222,\"#7201a8\"],[0.3333333333333333,\"#9c179e\"],[0.4444444444444444,\"#bd3786\"],[0.5555555555555556,\"#d8576b\"],[0.6666666666666666,\"#ed7953\"],[0.7777777777777778,\"#fb9f3a\"],[0.8888888888888888,\"#fdca26\"],[1.0,\"#f0f921\"]],\"type\":\"histogram2d\"}],\"histogram\":[{\"marker\":{\"pattern\":{\"fillmode\":\"overlay\",\"size\":10,\"solidity\":0.2}},\"type\":\"histogram\"}],\"mesh3d\":[{\"colorbar\":{\"outlinewidth\":0,\"ticks\":\"\"},\"type\":\"mesh3d\"}],\"parcoords\":[{\"line\":{\"colorbar\":{\"outlinewidth\":0,\"ticks\":\"\"}},\"type\":\"parcoords\"}],\"pie\":[{\"automargin\":true,\"type\":\"pie\"}],\"scatter3d\":[{\"line\":{\"colorbar\":{\"outlinewidth\":0,\"ticks\":\"\"}},\"marker\":{\"colorbar\":{\"outlinewidth\":0,\"ticks\":\"\"}},\"type\":\"scatter3d\"}],\"scattercarpet\":[{\"marker\":{\"colorbar\":{\"outlinewidth\":0,\"ticks\":\"\"}},\"type\":\"scattercarpet\"}],\"scattergeo\":[{\"marker\":{\"colorbar\":{\"outlinewidth\":0,\"ticks\":\"\"}},\"type\":\"scattergeo\"}],\"scattergl\":[{\"marker\":{\"colorbar\":{\"outlinewidth\":0,\"ticks\":\"\"}},\"type\":\"scattergl\"}],\"scattermapbox\":[{\"marker\":{\"colorbar\":{\"outlinewidth\":0,\"ticks\":\"\"}},\"type\":\"scattermapbox\"}],\"scatterpolargl\":[{\"marker\":{\"colorbar\":{\"outlinewidth\":0,\"ticks\":\"\"}},\"type\":\"scatterpolargl\"}],\"scatterpolar\":[{\"marker\":{\"colorbar\":{\"outlinewidth\":0,\"ticks\":\"\"}},\"type\":\"scatterpolar\"}],\"scatter\":[{\"fillpattern\":{\"fillmode\":\"overlay\",\"size\":10,\"solidity\":0.2},\"type\":\"scatter\"}],\"scatterternary\":[{\"marker\":{\"colorbar\":{\"outlinewidth\":0,\"ticks\":\"\"}},\"type\":\"scatterternary\"}],\"surface\":[{\"colorbar\":{\"outlinewidth\":0,\"ticks\":\"\"},\"colorscale\":[[0.0,\"#0d0887\"],[0.1111111111111111,\"#46039f\"],[0.2222222222222222,\"#7201a8\"],[0.3333333333333333,\"#9c179e\"],[0.4444444444444444,\"#bd3786\"],[0.5555555555555556,\"#d8576b\"],[0.6666666666666666,\"#ed7953\"],[0.7777777777777778,\"#fb9f3a\"],[0.8888888888888888,\"#fdca26\"],[1.0,\"#f0f921\"]],\"type\":\"surface\"}],\"table\":[{\"cells\":{\"fill\":{\"color\":\"#EBF0F8\"},\"line\":{\"color\":\"white\"}},\"header\":{\"fill\":{\"color\":\"#C8D4E3\"},\"line\":{\"color\":\"white\"}},\"type\":\"table\"}]},\"layout\":{\"annotationdefaults\":{\"arrowcolor\":\"#2a3f5f\",\"arrowhead\":0,\"arrowwidth\":1},\"autotypenumbers\":\"strict\",\"coloraxis\":{\"colorbar\":{\"outlinewidth\":0,\"ticks\":\"\"}},\"colorscale\":{\"diverging\":[[0,\"#8e0152\"],[0.1,\"#c51b7d\"],[0.2,\"#de77ae\"],[0.3,\"#f1b6da\"],[0.4,\"#fde0ef\"],[0.5,\"#f7f7f7\"],[0.6,\"#e6f5d0\"],[0.7,\"#b8e186\"],[0.8,\"#7fbc41\"],[0.9,\"#4d9221\"],[1,\"#276419\"]],\"sequential\":[[0.0,\"#0d0887\"],[0.1111111111111111,\"#46039f\"],[0.2222222222222222,\"#7201a8\"],[0.3333333333333333,\"#9c179e\"],[0.4444444444444444,\"#bd3786\"],[0.5555555555555556,\"#d8576b\"],[0.6666666666666666,\"#ed7953\"],[0.7777777777777778,\"#fb9f3a\"],[0.8888888888888888,\"#fdca26\"],[1.0,\"#f0f921\"]],\"sequentialminus\":[[0.0,\"#0d0887\"],[0.1111111111111111,\"#46039f\"],[0.2222222222222222,\"#7201a8\"],[0.3333333333333333,\"#9c179e\"],[0.4444444444444444,\"#bd3786\"],[0.5555555555555556,\"#d8576b\"],[0.6666666666666666,\"#ed7953\"],[0.7777777777777778,\"#fb9f3a\"],[0.8888888888888888,\"#fdca26\"],[1.0,\"#f0f921\"]]},\"colorway\":[\"#636efa\",\"#EF553B\",\"#00cc96\",\"#ab63fa\",\"#FFA15A\",\"#19d3f3\",\"#FF6692\",\"#B6E880\",\"#FF97FF\",\"#FECB52\"],\"font\":{\"color\":\"#2a3f5f\"},\"geo\":{\"bgcolor\":\"white\",\"lakecolor\":\"white\",\"landcolor\":\"white\",\"showlakes\":true,\"showland\":true,\"subunitcolor\":\"#C8D4E3\"},\"hoverlabel\":{\"align\":\"left\"},\"hovermode\":\"closest\",\"mapbox\":{\"style\":\"light\"},\"paper_bgcolor\":\"white\",\"plot_bgcolor\":\"white\",\"polar\":{\"angularaxis\":{\"gridcolor\":\"#EBF0F8\",\"linecolor\":\"#EBF0F8\",\"ticks\":\"\"},\"bgcolor\":\"white\",\"radialaxis\":{\"gridcolor\":\"#EBF0F8\",\"linecolor\":\"#EBF0F8\",\"ticks\":\"\"}},\"scene\":{\"xaxis\":{\"backgroundcolor\":\"white\",\"gridcolor\":\"#DFE8F3\",\"gridwidth\":2,\"linecolor\":\"#EBF0F8\",\"showbackground\":true,\"ticks\":\"\",\"zerolinecolor\":\"#EBF0F8\"},\"yaxis\":{\"backgroundcolor\":\"white\",\"gridcolor\":\"#DFE8F3\",\"gridwidth\":2,\"linecolor\":\"#EBF0F8\",\"showbackground\":true,\"ticks\":\"\",\"zerolinecolor\":\"#EBF0F8\"},\"zaxis\":{\"backgroundcolor\":\"white\",\"gridcolor\":\"#DFE8F3\",\"gridwidth\":2,\"linecolor\":\"#EBF0F8\",\"showbackground\":true,\"ticks\":\"\",\"zerolinecolor\":\"#EBF0F8\"}},\"shapedefaults\":{\"line\":{\"color\":\"#2a3f5f\"}},\"ternary\":{\"aaxis\":{\"gridcolor\":\"#DFE8F3\",\"linecolor\":\"#A2B1C6\",\"ticks\":\"\"},\"baxis\":{\"gridcolor\":\"#DFE8F3\",\"linecolor\":\"#A2B1C6\",\"ticks\":\"\"},\"bgcolor\":\"white\",\"caxis\":{\"gridcolor\":\"#DFE8F3\",\"linecolor\":\"#A2B1C6\",\"ticks\":\"\"}},\"title\":{\"x\":0.05},\"xaxis\":{\"automargin\":true,\"gridcolor\":\"#EBF0F8\",\"linecolor\":\"#EBF0F8\",\"ticks\":\"\",\"title\":{\"standoff\":15},\"zerolinecolor\":\"#EBF0F8\",\"zerolinewidth\":2},\"yaxis\":{\"automargin\":true,\"gridcolor\":\"#EBF0F8\",\"linecolor\":\"#EBF0F8\",\"ticks\":\"\",\"title\":{\"standoff\":15},\"zerolinecolor\":\"#EBF0F8\",\"zerolinewidth\":2}}},\"title\":{\"font\":{\"size\":25},\"text\":\"\\u003cb\\u003eMean Correlation of PaLM-gecko Clustering Model against Benchmark Groups\\u003c\\u002fb\\u003e\\u003cbr\\u003e\",\"x\":0.5,\"xanchor\":\"center\"},\"xaxis\":{\"title\":{\"text\":\"Year\",\"font\":{\"size\":20}},\"tickfont\":{\"size\":13},\"tickmode\":\"linear\",\"dtick\":1},\"yaxis\":{\"title\":{\"text\":\"Mean Correlation\",\"font\":{\"size\":20}},\"tickfont\":{\"size\":15},\"tickformat\":\".2f\"},\"legend\":{\"font\":{\"size\":13},\"title\":{\"text\":\"Clustering Methods\",\"font\":{\"size\":15}},\"x\":0.01,\"y\":0.99,\"bgcolor\":\"rgba(255,255,255,0.8)\",\"bordercolor\":\"black\",\"borderwidth\":0.5},\"margin\":{\"l\":50,\"r\":50,\"t\":100,\"b\":50},\"width\":1300,\"height\":800},                        {\"responsive\": true}                    ).then(function(){\n",
       "                            \n",
       "var gd = document.getElementById('ab5b3388-96c6-4400-8a41-00c840addac7');\n",
       "var x = new MutationObserver(function (mutations, observer) {{\n",
       "        var display = window.getComputedStyle(gd).display;\n",
       "        if (!display || display === 'none') {{\n",
       "            console.log([gd, 'removed!']);\n",
       "            Plotly.purge(gd);\n",
       "            observer.disconnect();\n",
       "        }}\n",
       "}});\n",
       "\n",
       "// Listen for the removal of the full notebook cells\n",
       "var notebookContainer = gd.closest('#notebook-container');\n",
       "if (notebookContainer) {{\n",
       "    x.observe(notebookContainer, {childList: true});\n",
       "}}\n",
       "\n",
       "// Listen for the clearing of the current output cell\n",
       "var outputEl = gd.closest('.output');\n",
       "if (outputEl) {{\n",
       "    x.observe(outputEl, {childList: true});\n",
       "}}\n",
       "\n",
       "                        })                };                });            </script>        </div>"
      ]
     },
     "metadata": {},
     "output_type": "display_data"
    }
   ],
   "source": [
    "import plotly.graph_objects as go\n",
    "import kaleido\n",
    "\n",
    "import plotly.graph_objects as go\n",
    "\n",
    "# Initialize the figure\n",
    "fig = go.Figure()\n",
    "\n",
    "# Add traces for each cluster type\n",
    "fig.add_trace(go.Scatter(\n",
    "    x=temp_results[\"year\"],\n",
    "    y=temp_results[\"CustomClusterAvgCorrelation\"],\n",
    "    mode='lines+markers',\n",
    "    name=f\"{cluster_name} Cluster (ρ̄: {temp_results['CustomClusterAvgCorrelation'].mean():.3f})\",\n",
    "    line=dict(color='navy', width=2.5, dash='solid'),\n",
    "    marker=dict(symbol='circle', size=6)\n",
    "))\n",
    "\n",
    "# Add Feature ∩ SIC Joined\n",
    "if \"SICJoinedClusterAvgCorrelation\" in temp_results:\n",
    "    fig.add_trace(go.Scatter(\n",
    "        x=temp_results[\"year\"],\n",
    "        y=temp_results[\"SICJoinedClusterAvgCorrelation\"],\n",
    "        mode='lines+markers',\n",
    "        name=f\"{cluster_name} ∩ SIC Joined (ρ̄: {temp_results['SICJoinedClusterAvgCorrelation'].mean():.3f})\",\n",
    "        line=dict(color='purple', width=2.5, dash='solid'),\n",
    "        marker=dict(symbol='triangle-up', size=6)\n",
    "    ))\n",
    "\n",
    "# Add Feature ∩ BISC Joined\n",
    "if \"IndustryJoinedClusterAvgCorrelation\" in temp_results:\n",
    "    fig.add_trace(go.Scatter(\n",
    "        x=temp_results[\"year\"],\n",
    "        y=temp_results[\"IndustryJoinedClusterAvgCorrelation\"],\n",
    "        mode='lines+markers',\n",
    "        name=f\"{cluster_name} ∩ BISC Joined (ρ̄: {temp_results['IndustryJoinedClusterAvgCorrelation'].mean():.3f})\",\n",
    "        line=dict(color='darkolivegreen', width=2.5, dash='solid'),\n",
    "        marker=dict(symbol='triangle-up', size=6)\n",
    "    ))\n",
    "\n",
    "# Add SIC\n",
    "fig.add_trace(go.Scatter(\n",
    "    x=temp_results[\"year\"],\n",
    "    y=temp_results[\"SICAvgCorrelation\"],\n",
    "    mode='lines+markers',\n",
    "    name=f\"SIC (ρ̄: {temp_results['SICAvgCorrelation'].mean():.3f})\",\n",
    "    line=dict(color='orchid', width=2, dash='dot'),\n",
    "    marker=dict(symbol='square', size=6)\n",
    "))\n",
    "\n",
    "# Add BISC\n",
    "fig.add_trace(go.Scatter(\n",
    "    x=temp_results[\"year\"],\n",
    "    y=temp_results[\"IndustryAvgCorrelation\"],\n",
    "    mode='lines+markers',\n",
    "    name=f\"BISC (ρ̄: {temp_results['IndustryAvgCorrelation'].mean():.3f})\",\n",
    "    line=dict(color='yellowgreen', width=2, dash='dot'),\n",
    "    marker=dict(symbol='triangle-up', size=6)\n",
    "))\n",
    "\n",
    "fig.update_layout(\n",
    "    title=dict(\n",
    "        text=f\"<b>Mean Correlation of {cluster_name} Clustering Model against Benchmark Groups</b><br>\",\n",
    "        x=0.5,\n",
    "        xanchor='center',\n",
    "        font=dict(size=25)\n",
    "    ),\n",
    "    xaxis=dict(\n",
    "        title=\"Year\",\n",
    "        tickmode='linear',\n",
    "        dtick=1,\n",
    "        title_font=dict(size=20),\n",
    "        tickfont=dict(size=13)\n",
    "    ),\n",
    "    yaxis=dict(\n",
    "        title=\"Mean Correlation\",\n",
    "        title_font=dict(size=20),\n",
    "        tickfont=dict(size=15),\n",
    "        tickformat=\".2f\"\n",
    "    ),\n",
    "    legend=dict(\n",
    "        title=\"Clustering Methods\",\n",
    "        font=dict(size=13),\n",
    "        title_font=dict(size=15),\n",
    "        x=0.01,\n",
    "        y=0.99,\n",
    "        bgcolor=\"rgba(255,255,255,0.8)\",\n",
    "        bordercolor=\"black\",\n",
    "        borderwidth=0.5\n",
    "    ),\n",
    "    template=\"plotly_white\",\n",
    "    margin=dict(l=50, r=50, t=100, b=50),\n",
    "    width=1300,  # Adjust width\n",
    "    height=800  # Adjust height\n",
    ")\n",
    "\n",
    "# Export high-resolution image\n",
    "fig.write_image(f'{cluster_name}_final_plot_resized.png', scale=2)\n",
    "\n",
    "# Show the figure\n",
    "fig.show()\n",
    "\n"
   ]
  },
  {
   "cell_type": "code",
   "execution_count": 24,
   "id": "e990ea65-e8ac-49d9-9bde-3769f40f774a",
   "metadata": {},
   "outputs": [
    {
     "data": {
      "text/html": [
       "<div>\n",
       "<style scoped>\n",
       "    .dataframe tbody tr th:only-of-type {\n",
       "        vertical-align: middle;\n",
       "    }\n",
       "\n",
       "    .dataframe tbody tr th {\n",
       "        vertical-align: top;\n",
       "    }\n",
       "\n",
       "    .dataframe thead th {\n",
       "        text-align: right;\n",
       "    }\n",
       "</style>\n",
       "<table border=\"1\" class=\"dataframe\">\n",
       "  <thead>\n",
       "    <tr style=\"text-align: right;\">\n",
       "      <th></th>\n",
       "      <th>year</th>\n",
       "      <th>clusters</th>\n",
       "    </tr>\n",
       "  </thead>\n",
       "  <tbody>\n",
       "    <tr>\n",
       "      <th>0</th>\n",
       "      <td>1996</td>\n",
       "      <td>{23: [1455, 1442, 1440, 1210, 1563, 1693, 1760...</td>\n",
       "    </tr>\n",
       "    <tr>\n",
       "      <th>1</th>\n",
       "      <td>1997</td>\n",
       "      <td>{11: [2547, 2553, 2579, 2816, 2896, 2891, 2493...</td>\n",
       "    </tr>\n",
       "    <tr>\n",
       "      <th>2</th>\n",
       "      <td>1998</td>\n",
       "      <td>{5: [3432, 3434, 3473, 16150, 3609, 3644, 3490...</td>\n",
       "    </tr>\n",
       "    <tr>\n",
       "      <th>3</th>\n",
       "      <td>1999</td>\n",
       "      <td>{22: [21822, 21995, 21895, 10150, 16248, 16288...</td>\n",
       "    </tr>\n",
       "    <tr>\n",
       "      <th>4</th>\n",
       "      <td>2000</td>\n",
       "      <td>{4: [10165, 10172, 10214, 16323, 22051, 22058,...</td>\n",
       "    </tr>\n",
       "    <tr>\n",
       "      <th>5</th>\n",
       "      <td>2001</td>\n",
       "      <td>{20: [23841, 23849, 24378, 24307, 16495, 24318...</td>\n",
       "    </tr>\n",
       "    <tr>\n",
       "      <th>6</th>\n",
       "      <td>2002</td>\n",
       "      <td>{17: [25390, 25408, 25317, 25320, 25023, 25072...</td>\n",
       "    </tr>\n",
       "    <tr>\n",
       "      <th>7</th>\n",
       "      <td>2003</td>\n",
       "      <td>{10: [26855, 26892, 26879, 10768, 10709, 10682...</td>\n",
       "    </tr>\n",
       "    <tr>\n",
       "      <th>8</th>\n",
       "      <td>2004</td>\n",
       "      <td>{20: [27069, 26960, 27272, 27290, 27861, 27876...</td>\n",
       "    </tr>\n",
       "    <tr>\n",
       "      <th>9</th>\n",
       "      <td>2005</td>\n",
       "      <td>{10: [29602, 28298, 28267, 28271, 28437, 28401...</td>\n",
       "    </tr>\n",
       "    <tr>\n",
       "      <th>10</th>\n",
       "      <td>2006</td>\n",
       "      <td>{7: [30158, 30161, 30364, 30229, 30230, 17259,...</td>\n",
       "    </tr>\n",
       "    <tr>\n",
       "      <th>11</th>\n",
       "      <td>2007</td>\n",
       "      <td>{21: [11434, 32142, 31248, 31282, 31317, 31398...</td>\n",
       "    </tr>\n",
       "    <tr>\n",
       "      <th>12</th>\n",
       "      <td>2008</td>\n",
       "      <td>{2: [34660, 34505, 34507, 11536, 11567, 11544,...</td>\n",
       "    </tr>\n",
       "    <tr>\n",
       "      <th>13</th>\n",
       "      <td>2009</td>\n",
       "      <td>{19: [35447, 35130, 35300, 35145, 35224, 34873...</td>\n",
       "    </tr>\n",
       "    <tr>\n",
       "      <th>14</th>\n",
       "      <td>2010</td>\n",
       "      <td>{5: [37781, 37350, 37516, 37356, 37281, 37284,...</td>\n",
       "    </tr>\n",
       "    <tr>\n",
       "      <th>15</th>\n",
       "      <td>2011</td>\n",
       "      <td>{1: [18468, 18606, 39173, 39256, 39432, 39479,...</td>\n",
       "    </tr>\n",
       "    <tr>\n",
       "      <th>16</th>\n",
       "      <td>2012</td>\n",
       "      <td>{2: [42078, 41976, 41966, 43371, 43379, 18720,...</td>\n",
       "    </tr>\n",
       "    <tr>\n",
       "      <th>17</th>\n",
       "      <td>2013</td>\n",
       "      <td>{5: [43386, 45692, 43476, 43626, 43720, 43611,...</td>\n",
       "    </tr>\n",
       "    <tr>\n",
       "      <th>18</th>\n",
       "      <td>2014</td>\n",
       "      <td>{26: [48191, 45844, 46167, 19335, 19347, 46446...</td>\n",
       "    </tr>\n",
       "    <tr>\n",
       "      <th>19</th>\n",
       "      <td>2015</td>\n",
       "      <td>{5: [13636, 13656, 13620, 49655, 13741, 13704,...</td>\n",
       "    </tr>\n",
       "    <tr>\n",
       "      <th>20</th>\n",
       "      <td>2016</td>\n",
       "      <td>{11: [52365, 52290, 52376, 52834, 52639, 52659...</td>\n",
       "    </tr>\n",
       "    <tr>\n",
       "      <th>21</th>\n",
       "      <td>2017</td>\n",
       "      <td>{1: [56585, 56587, 56358, 56360, 20321, 20291,...</td>\n",
       "    </tr>\n",
       "    <tr>\n",
       "      <th>22</th>\n",
       "      <td>2018</td>\n",
       "      <td>{12: [14497, 14512, 14660, 14663, 59548, 59539...</td>\n",
       "    </tr>\n",
       "    <tr>\n",
       "      <th>23</th>\n",
       "      <td>2019</td>\n",
       "      <td>{15: [61602, 6061, 61746, 61493, 61508, 61456,...</td>\n",
       "    </tr>\n",
       "    <tr>\n",
       "      <th>24</th>\n",
       "      <td>2020</td>\n",
       "      <td>{3: [21716, 21705, 21766, 21775, 6887, 6940, 6...</td>\n",
       "    </tr>\n",
       "  </tbody>\n",
       "</table>\n",
       "</div>"
      ],
      "text/plain": [
       "    year                                           clusters\n",
       "0   1996  {23: [1455, 1442, 1440, 1210, 1563, 1693, 1760...\n",
       "1   1997  {11: [2547, 2553, 2579, 2816, 2896, 2891, 2493...\n",
       "2   1998  {5: [3432, 3434, 3473, 16150, 3609, 3644, 3490...\n",
       "3   1999  {22: [21822, 21995, 21895, 10150, 16248, 16288...\n",
       "4   2000  {4: [10165, 10172, 10214, 16323, 22051, 22058,...\n",
       "5   2001  {20: [23841, 23849, 24378, 24307, 16495, 24318...\n",
       "6   2002  {17: [25390, 25408, 25317, 25320, 25023, 25072...\n",
       "7   2003  {10: [26855, 26892, 26879, 10768, 10709, 10682...\n",
       "8   2004  {20: [27069, 26960, 27272, 27290, 27861, 27876...\n",
       "9   2005  {10: [29602, 28298, 28267, 28271, 28437, 28401...\n",
       "10  2006  {7: [30158, 30161, 30364, 30229, 30230, 17259,...\n",
       "11  2007  {21: [11434, 32142, 31248, 31282, 31317, 31398...\n",
       "12  2008  {2: [34660, 34505, 34507, 11536, 11567, 11544,...\n",
       "13  2009  {19: [35447, 35130, 35300, 35145, 35224, 34873...\n",
       "14  2010  {5: [37781, 37350, 37516, 37356, 37281, 37284,...\n",
       "15  2011  {1: [18468, 18606, 39173, 39256, 39432, 39479,...\n",
       "16  2012  {2: [42078, 41976, 41966, 43371, 43379, 18720,...\n",
       "17  2013  {5: [43386, 45692, 43476, 43626, 43720, 43611,...\n",
       "18  2014  {26: [48191, 45844, 46167, 19335, 19347, 46446...\n",
       "19  2015  {5: [13636, 13656, 13620, 49655, 13741, 13704,...\n",
       "20  2016  {11: [52365, 52290, 52376, 52834, 52639, 52659...\n",
       "21  2017  {1: [56585, 56587, 56358, 56360, 20321, 20291,...\n",
       "22  2018  {12: [14497, 14512, 14660, 14663, 59548, 59539...\n",
       "23  2019  {15: [61602, 6061, 61746, 61493, 61508, 61456,...\n",
       "24  2020  {3: [21716, 21705, 21766, 21775, 6887, 6940, 6..."
      ]
     },
     "execution_count": 24,
     "metadata": {},
     "output_type": "execute_result"
    }
   ],
   "source": [
    "year_cluster_df"
   ]
  },
  {
   "cell_type": "code",
   "execution_count": 25,
   "id": "bbeb554e-eee5-4edf-9309-d8b424b9a459",
   "metadata": {},
   "outputs": [
    {
     "data": {
      "text/plain": [
       "'PaLM-gecko'"
      ]
     },
     "execution_count": 25,
     "metadata": {},
     "output_type": "execute_result"
    }
   ],
   "source": [
    "cluster_name"
   ]
  },
  {
   "cell_type": "code",
   "execution_count": 26,
   "id": "49ce7714-0956-4d7c-bbc3-8aed4fa58c94",
   "metadata": {},
   "outputs": [],
   "source": [
    "year_cluster_df.to_pickle(f\"./Final Results/year_cluster_df{cluster_name}.pkl\")\n",
    "\n",
    "year_SIC_joined_df.to_pickle(f\"./Final Results/year_industry_joined_df{cluster_name}.pkl\")\n",
    "\n",
    "year_Industry_joined_df.to_pickle(f\"./Final Results/year_sic_joined_cluster_df{cluster_name}.pkl\")"
   ]
  },
  {
   "cell_type": "code",
   "execution_count": null,
   "id": "76b3ebac-ba44-4798-baf6-0b7c088d56a4",
   "metadata": {},
   "outputs": [],
   "source": []
  }
 ],
 "metadata": {
  "kernelspec": {
   "display_name": "Python 3 (ipykernel)",
   "language": "python",
   "name": "python3"
  },
  "language_info": {
   "codemirror_mode": {
    "name": "ipython",
    "version": 3
   },
   "file_extension": ".py",
   "mimetype": "text/x-python",
   "name": "python",
   "nbconvert_exporter": "python",
   "pygments_lexer": "ipython3",
   "version": "3.11.4"
  }
 },
 "nbformat": 4,
 "nbformat_minor": 5
}
